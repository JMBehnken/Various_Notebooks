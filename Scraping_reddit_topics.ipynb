{
 "cells": [
  {
   "cell_type": "code",
   "execution_count": 1,
   "metadata": {
    "collapsed": true
   },
   "outputs": [],
   "source": [
    "import time\n",
    "import pandas as pd\n",
    "from bs4 import BeautifulSoup\n",
    "import matplotlib.pyplot as plt\n",
    "from   selenium import webdriver\n",
    "from selenium.webdriver.support.ui import WebDriverWait"
   ]
  },
  {
   "cell_type": "code",
   "execution_count": 2,
   "metadata": {
    "collapsed": true
   },
   "outputs": [],
   "source": [
    "website = 'https://www.reddit.com/r/MachineLearning/'\n",
    "  \n",
    "driver = webdriver.Firefox()"
   ]
  },
  {
   "cell_type": "code",
   "execution_count": 3,
   "metadata": {
    "collapsed": true
   },
   "outputs": [],
   "source": [
    "posts = []\n",
    "\n",
    "for _ in range(50):\n",
    "    try:\n",
    "        driver.get(website)\n",
    "        html = driver.page_source\n",
    "        bs = BeautifulSoup(html, 'lxml')\n",
    "\n",
    "        for elem in bs.find('div', {'id':'siteTable'}).findAll('div'):\n",
    "            if elem.has_attr('id'):\n",
    "                title = elem.find('p', {'class':'title'}).get_text()\n",
    "                typ = None\n",
    "                for long, short in [['Project', '[P]'], ['Discussion', '[D]'], ['Research', '[R]'], ['News', '[N]']]:\n",
    "                    if title.startswith(long) or title.startswith(short):\n",
    "                        typ = short[1]\n",
    "                post_id = elem['id']\n",
    "                comments = int(elem['data-comments-count'])\n",
    "                score = int(elem['data-score'])\n",
    "                timestamp = int(elem['data-timestamp'])\n",
    "                url = elem['data-url']\n",
    "                comment_link = elem.find('ul', {'class':'flat-list buttons'}).find('a')['href']\n",
    "                posts.append([post_id, title, typ, comments, score, url, comment_link, timestamp])\n",
    "\n",
    "        website = bs.find('span', {'class':'next-button'}).find('a')['href']\n",
    "        \n",
    "    except:\n",
    "        break\n",
    "        \n",
    "driver.close()"
   ]
  },
  {
   "cell_type": "code",
   "execution_count": 4,
   "metadata": {},
   "outputs": [
    {
     "name": "stdout",
     "output_type": "stream",
     "text": [
      "(473, 8)\n"
     ]
    },
    {
     "data": {
      "text/html": [
       "<div>\n",
       "<style>\n",
       "    .dataframe thead tr:only-child th {\n",
       "        text-align: right;\n",
       "    }\n",
       "\n",
       "    .dataframe thead th {\n",
       "        text-align: left;\n",
       "    }\n",
       "\n",
       "    .dataframe tbody tr th {\n",
       "        vertical-align: top;\n",
       "    }\n",
       "</style>\n",
       "<table border=\"1\" class=\"dataframe\">\n",
       "  <thead>\n",
       "    <tr style=\"text-align: right;\">\n",
       "      <th></th>\n",
       "      <th>Id</th>\n",
       "      <th>Title</th>\n",
       "      <th>Typ</th>\n",
       "      <th>Comments</th>\n",
       "      <th>Score</th>\n",
       "      <th>URL</th>\n",
       "      <th>Link-URL</th>\n",
       "      <th>Timestamp</th>\n",
       "    </tr>\n",
       "  </thead>\n",
       "  <tbody>\n",
       "    <tr>\n",
       "      <th>0</th>\n",
       "      <td>thing_t3_8aluhs</td>\n",
       "      <td>Discussion[D] Machine Learning - WAYR (What Ar...</td>\n",
       "      <td>D</td>\n",
       "      <td>21</td>\n",
       "      <td>65</td>\n",
       "      <td>/r/MachineLearning/comments/8aluhs/d_machine_l...</td>\n",
       "      <td>https://www.reddit.com/r/MachineLearning/comme...</td>\n",
       "      <td>1523141888000</td>\n",
       "    </tr>\n",
       "    <tr>\n",
       "      <th>1</th>\n",
       "      <td>thing_t3_8ej2j4</td>\n",
       "      <td>Discussion[D] Facebook Visdom vs Google Tensor...</td>\n",
       "      <td>D</td>\n",
       "      <td>9</td>\n",
       "      <td>17</td>\n",
       "      <td>/r/MachineLearning/comments/8ej2j4/d_facebook_...</td>\n",
       "      <td>https://www.reddit.com/r/MachineLearning/comme...</td>\n",
       "      <td>1524561220000</td>\n",
       "    </tr>\n",
       "  </tbody>\n",
       "</table>\n",
       "</div>"
      ],
      "text/plain": [
       "                Id                                              Title Typ  \\\n",
       "0  thing_t3_8aluhs  Discussion[D] Machine Learning - WAYR (What Ar...   D   \n",
       "1  thing_t3_8ej2j4  Discussion[D] Facebook Visdom vs Google Tensor...   D   \n",
       "\n",
       "   Comments  Score                                                URL  \\\n",
       "0        21     65  /r/MachineLearning/comments/8aluhs/d_machine_l...   \n",
       "1         9     17  /r/MachineLearning/comments/8ej2j4/d_facebook_...   \n",
       "\n",
       "                                            Link-URL      Timestamp  \n",
       "0  https://www.reddit.com/r/MachineLearning/comme...  1523141888000  \n",
       "1  https://www.reddit.com/r/MachineLearning/comme...  1524561220000  "
      ]
     },
     "execution_count": 4,
     "metadata": {},
     "output_type": "execute_result"
    }
   ],
   "source": [
    "df = pd.DataFrame(posts, columns=['Id', 'Title', 'Typ', 'Comments', 'Score', 'URL', 'Link-URL', 'Timestamp']).drop_duplicates()\n",
    "print(df.shape)\n",
    "df.head(2)"
   ]
  },
  {
   "cell_type": "code",
   "execution_count": 5,
   "metadata": {},
   "outputs": [
    {
     "name": "stderr",
     "output_type": "stream",
     "text": [
      "/home/jm/anaconda3/lib/python3.6/site-packages/numpy/core/fromnumeric.py:57: FutureWarning: reshape is deprecated and will raise in a subsequent release. Please use .values.reshape(...) instead\n",
      "  return getattr(obj, method)(*args, **kwds)\n"
     ]
    },
    {
     "data": {
      "image/png": "[encoded data removed]",
      "text/plain": [
       "<matplotlib.figure.Figure at 0x7ffa9460e780>"
      ]
     },
     "metadata": {},
     "output_type": "display_data"
    }
   ],
   "source": [
    "df[['Comments', 'Score', 'Typ']].boxplot(by='Typ', figsize=(12, 8))\n",
    "plt.tight_layout()\n",
    "plt.show()"
   ]
  },
  {
   "cell_type": "code",
   "execution_count": 6,
   "metadata": {
    "scrolled": false
   },
   "outputs": [
    {
     "data": {
      "image/png": "[encoded data removed]",
      "text/plain": [
       "<matplotlib.figure.Figure at 0x7ffa93f45128>"
      ]
     },
     "metadata": {},
     "output_type": "display_data"
    }
   ],
   "source": [
    "color = {None: (0/255, 0/255, 0/255),\n",
    " 'D': (0/255, 255/255, 230/255),\n",
    " 'R': (0/255, 255/255, 137/255),\n",
    " 'P': (196/255, 0/255, 255/255),\n",
    " 'N': (255/255, 94/255, 0/255)}\n",
    "\n",
    "color = {None: '#000000',\n",
    " 'D': '#00FFE6',\n",
    " 'R': '#00FF89',\n",
    " 'P': '#C400FF',\n",
    " 'N': '#FF5E00'}\n",
    "\n",
    "plt.style.use('ggplot')\n",
    "df.plot.scatter(x='Comments', y='Score', figsize=(12, 8), s=df['Comments']*df['Score']/100, c=df.replace({'Typ':color})['Typ'])\n",
    "plt.legend()\n",
    "plt.show()"
   ]
  },
  {
   "cell_type": "code",
   "execution_count": 7,
   "metadata": {
    "scrolled": false
   },
   "outputs": [
    {
     "data": {
      "text/plain": [
       "MachineLearning    175\n",
       "github.com          61\n",
       "arxiv.org           53\n",
       "medium.com          27\n",
       "www.youtube.com     14\n",
       "Name: Homepage, dtype: int64"
      ]
     },
     "execution_count": 7,
     "metadata": {},
     "output_type": "execute_result"
    }
   ],
   "source": [
    "def homepage(x):\n",
    "    if x.startswith('/'):\n",
    "        return x.split('/')[2]\n",
    "    else:\n",
    "        return x.split('//')[-1].split('/')[0]\n",
    "    \n",
    "df['Homepage'] = df['URL'].apply(lambda x: homepage(x))\n",
    "df['Homepage'].value_counts().head()"
   ]
  },
  {
   "cell_type": "code",
   "execution_count": 8,
   "metadata": {},
   "outputs": [
    {
     "data": {
      "text/html": [
       "<div>\n",
       "<style>\n",
       "    .dataframe thead tr:only-child th {\n",
       "        text-align: right;\n",
       "    }\n",
       "\n",
       "    .dataframe thead th {\n",
       "        text-align: left;\n",
       "    }\n",
       "\n",
       "    .dataframe tbody tr th {\n",
       "        vertical-align: top;\n",
       "    }\n",
       "</style>\n",
       "<table border=\"1\" class=\"dataframe\">\n",
       "  <thead>\n",
       "    <tr style=\"text-align: right;\">\n",
       "      <th></th>\n",
       "      <th>Count</th>\n",
       "    </tr>\n",
       "  </thead>\n",
       "  <tbody>\n",
       "    <tr>\n",
       "      <th>discussion[d]</th>\n",
       "      <td>177</td>\n",
       "    </tr>\n",
       "    <tr>\n",
       "      <th>(self.machinelearning)</th>\n",
       "      <td>175</td>\n",
       "    </tr>\n",
       "    <tr>\n",
       "      <th>project[p]</th>\n",
       "      <td>119</td>\n",
       "    </tr>\n",
       "    <tr>\n",
       "      <th>learning</th>\n",
       "      <td>102</td>\n",
       "    </tr>\n",
       "    <tr>\n",
       "      <th>research[r]</th>\n",
       "      <td>99</td>\n",
       "    </tr>\n",
       "    <tr>\n",
       "      <th>(github.com)</th>\n",
       "      <td>61</td>\n",
       "    </tr>\n",
       "    <tr>\n",
       "      <th>(arxiv.org)</th>\n",
       "      <td>53</td>\n",
       "    </tr>\n",
       "    <tr>\n",
       "      <th>deep</th>\n",
       "      <td>53</td>\n",
       "    </tr>\n",
       "    <tr>\n",
       "      <th>machine</th>\n",
       "      <td>50</td>\n",
       "    </tr>\n",
       "    <tr>\n",
       "      <th>neural</th>\n",
       "      <td>37</td>\n",
       "    </tr>\n",
       "  </tbody>\n",
       "</table>\n",
       "</div>"
      ],
      "text/plain": [
       "                        Count\n",
       "discussion[d]             177\n",
       "(self.machinelearning)    175\n",
       "project[p]                119\n",
       "learning                  102\n",
       "research[r]                99\n",
       "(github.com)               61\n",
       "(arxiv.org)                53\n",
       "deep                       53\n",
       "machine                    50\n",
       "neural                     37"
      ]
     },
     "execution_count": 8,
     "metadata": {},
     "output_type": "execute_result"
    }
   ],
   "source": [
    "from nltk.corpus import stopwords\n",
    "stop = stopwords.words('english')\n",
    "\n",
    "words = {}\n",
    "for title in df['Title'].values:\n",
    "    for word in title.split(' '):\n",
    "        word = word.lower()\n",
    "        if word not in stop:\n",
    "            if word in words.keys():\n",
    "                words[word] += 1\n",
    "            else:\n",
    "                words[word] = 1\n",
    "df_words = pd.DataFrame.from_dict(words, orient='index').rename(columns={0:'Count'})\n",
    "df_words.sort_values('Count', ascending=False).head(10)"
   ]
  },
  {
   "cell_type": "markdown",
   "metadata": {},
   "source": [
    "# Download Comments"
   ]
  },
  {
   "cell_type": "code",
   "execution_count": 9,
   "metadata": {
    "collapsed": true
   },
   "outputs": [],
   "source": [
    "from multiprocessing.dummy import Pool\n",
    "import requests\n",
    "import dateutil\n",
    "from tqdm import tqdm\n",
    "\n",
    "def loadComments(url):\n",
    "    try:\n",
    "        headers = {'User-Agent': 'Mozilla/5.0 (Macintosh; Intel Mac OS X 10_10_1) AppleWebKit/537.36 (KHTML, like Gecko) Chrome/39.0.2171.95 Safari/537.36'}\n",
    "        html = requests.get(url, headers=headers).text\n",
    "        bs = BeautifulSoup(html, 'lxml')\n",
    "\n",
    "        for elem in bs.find('div', {'class':'sitetable nestedlisting'}).findAll('div', {'data-type':'comment'}):\n",
    "            up_votes = int(elem.find('span', {'class':'score unvoted'}).get_text().split(' ')[0])\n",
    "            time = dateutil.parser.parse(elem.find('time')['title'], '')\n",
    "            text = elem.find('div', {'class':'md'}).get_text().strip()\n",
    "            comments.append([up_votes, time, text, url])\n",
    "    except:\n",
    "        pass"
   ]
  },
  {
   "cell_type": "code",
   "execution_count": 10,
   "metadata": {
    "scrolled": false
   },
   "outputs": [
    {
     "name": "stderr",
     "output_type": "stream",
     "text": [
      "100%|██████████| 473/473 [00:00<00:00, 1512.24it/s]\n"
     ]
    }
   ],
   "source": [
    "pool = Pool(20)\n",
    "futures = []\n",
    "comments = []\n",
    "for url in tqdm(df['Link-URL'].values):\n",
    "    futures.append(pool.apply_async(loadComments, [url]))\n",
    "for titel in futures:\n",
    "    _ = titel.get()"
   ]
  },
  {
   "cell_type": "code",
   "execution_count": 11,
   "metadata": {},
   "outputs": [
    {
     "name": "stdout",
     "output_type": "stream",
     "text": [
      "(3794, 3)\n"
     ]
    },
    {
     "data": {
      "text/html": [
       "<div>\n",
       "<style>\n",
       "    .dataframe thead tr:only-child th {\n",
       "        text-align: right;\n",
       "    }\n",
       "\n",
       "    .dataframe thead th {\n",
       "        text-align: left;\n",
       "    }\n",
       "\n",
       "    .dataframe tbody tr th {\n",
       "        vertical-align: top;\n",
       "    }\n",
       "</style>\n",
       "<table border=\"1\" class=\"dataframe\">\n",
       "  <thead>\n",
       "    <tr style=\"text-align: right;\">\n",
       "      <th></th>\n",
       "      <th>Upvotes</th>\n",
       "      <th>Text</th>\n",
       "      <th>Link-URL</th>\n",
       "    </tr>\n",
       "    <tr>\n",
       "      <th>Time</th>\n",
       "      <th></th>\n",
       "      <th></th>\n",
       "      <th></th>\n",
       "    </tr>\n",
       "  </thead>\n",
       "  <tbody>\n",
       "    <tr>\n",
       "      <th>2018-04-23 23:15:42+00:00</th>\n",
       "      <td>6</td>\n",
       "      <td>Whatever happened to that Max Planck Institute...</td>\n",
       "      <td>https://www.reddit.com/r/MachineLearning/comme...</td>\n",
       "    </tr>\n",
       "    <tr>\n",
       "      <th>2018-04-23 19:34:37+00:00</th>\n",
       "      <td>0</td>\n",
       "      <td>What's very frustrating about these large gove...</td>\n",
       "      <td>https://www.reddit.com/r/MachineLearning/comme...</td>\n",
       "    </tr>\n",
       "    <tr>\n",
       "      <th>2018-04-24 02:59:39+00:00</th>\n",
       "      <td>1</td>\n",
       "      <td>I think we can take away money from the life s...</td>\n",
       "      <td>https://www.reddit.com/r/MachineLearning/comme...</td>\n",
       "    </tr>\n",
       "    <tr>\n",
       "      <th>2018-04-24 03:14:30+00:00</th>\n",
       "      <td>4</td>\n",
       "      <td>Cool, but... isn't this kind of unmaintainable...</td>\n",
       "      <td>https://www.reddit.com/r/MachineLearning/comme...</td>\n",
       "    </tr>\n",
       "    <tr>\n",
       "      <th>2018-04-24 11:37:04+00:00</th>\n",
       "      <td>2</td>\n",
       "      <td>DeepMimic is what you're looking for.\\nAnd her...</td>\n",
       "      <td>https://www.reddit.com/r/MachineLearning/comme...</td>\n",
       "    </tr>\n",
       "  </tbody>\n",
       "</table>\n",
       "</div>"
      ],
      "text/plain": [
       "                           Upvotes  \\\n",
       "Time                                 \n",
       "2018-04-23 23:15:42+00:00        6   \n",
       "2018-04-23 19:34:37+00:00        0   \n",
       "2018-04-24 02:59:39+00:00        1   \n",
       "2018-04-24 03:14:30+00:00        4   \n",
       "2018-04-24 11:37:04+00:00        2   \n",
       "\n",
       "                                                                        Text  \\\n",
       "Time                                                                           \n",
       "2018-04-23 23:15:42+00:00  Whatever happened to that Max Planck Institute...   \n",
       "2018-04-23 19:34:37+00:00  What's very frustrating about these large gove...   \n",
       "2018-04-24 02:59:39+00:00  I think we can take away money from the life s...   \n",
       "2018-04-24 03:14:30+00:00  Cool, but... isn't this kind of unmaintainable...   \n",
       "2018-04-24 11:37:04+00:00  DeepMimic is what you're looking for.\\nAnd her...   \n",
       "\n",
       "                                                                    Link-URL  \n",
       "Time                                                                          \n",
       "2018-04-23 23:15:42+00:00  https://www.reddit.com/r/MachineLearning/comme...  \n",
       "2018-04-23 19:34:37+00:00  https://www.reddit.com/r/MachineLearning/comme...  \n",
       "2018-04-24 02:59:39+00:00  https://www.reddit.com/r/MachineLearning/comme...  \n",
       "2018-04-24 03:14:30+00:00  https://www.reddit.com/r/MachineLearning/comme...  \n",
       "2018-04-24 11:37:04+00:00  https://www.reddit.com/r/MachineLearning/comme...  "
      ]
     },
     "execution_count": 11,
     "metadata": {},
     "output_type": "execute_result"
    }
   ],
   "source": [
    "df_com = pd.DataFrame(comments, columns=['Upvotes', 'Time', 'Text', 'Link-URL']).set_index('Time')\n",
    "print(df_com.shape)\n",
    "df_com.head()"
   ]
  },
  {
   "cell_type": "code",
   "execution_count": 12,
   "metadata": {},
   "outputs": [
    {
     "data": {
      "image/png": "[encoded data removed]",
      "text/plain": [
       "<matplotlib.figure.Figure at 0x7ffa1a2e8e48>"
      ]
     },
     "metadata": {},
     "output_type": "display_data"
    }
   ],
   "source": [
    "df_com['Upvotes'] = df_com['Upvotes'].astype(int)\n",
    "import matplotlib.pyplot as plt\n",
    "df_com.plot()\n",
    "plt.show()"
   ]
  },
  {
   "cell_type": "code",
   "execution_count": null,
   "metadata": {
    "collapsed": true
   },
   "outputs": [],
   "source": []
  }
 ],
 "metadata": {
  "kernelspec": {
   "display_name": "Python 3",
   "language": "python",
   "name": "python3"
  },
  "language_info": {
   "codemirror_mode": {
    "name": "ipython",
    "version": 3
   },
   "file_extension": ".py",
   "mimetype": "text/x-python",
   "name": "python",
   "nbconvert_exporter": "python",
   "pygments_lexer": "ipython3",
   "version": "3.6.1"
  }
 },
 "nbformat": 4,
 "nbformat_minor": 2
}

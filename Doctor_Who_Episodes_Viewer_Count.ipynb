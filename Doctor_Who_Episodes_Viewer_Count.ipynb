{
 "cells": [
  {
   "cell_type": "markdown",
   "metadata": {},
   "source": [
    "# Download viewer counts for the Doctor Who episodes"
   ]
  },
  {
   "cell_type": "code",
   "execution_count": 1,
   "metadata": {
    "collapsed": true
   },
   "outputs": [],
   "source": [
    "import re\n",
    "import requests\n",
    "from tqdm import tqdm\n",
    "from bs4 import BeautifulSoup\n",
    "\n",
    "num = re.compile('\\d+\\.*\\d*')"
   ]
  },
  {
   "cell_type": "code",
   "execution_count": 2,
   "metadata": {
    "collapsed": true
   },
   "outputs": [],
   "source": [
    "url = 'http://tardis.wikia.com/wiki/The_Doctor%27s_Daughter_(TV_story)'"
   ]
  },
  {
   "cell_type": "code",
   "execution_count": 3,
   "metadata": {
    "collapsed": true
   },
   "outputs": [],
   "source": [
    "bs = BeautifulSoup(requests.get(url).text, 'lxml')"
   ]
  },
  {
   "cell_type": "code",
   "execution_count": 4,
   "metadata": {},
   "outputs": [
    {
     "data": {
      "text/plain": [
       "'Final BARB ratings - 7.33 million viewers'"
      ]
     },
     "execution_count": 4,
     "metadata": {},
     "output_type": "execute_result"
    }
   ],
   "source": [
    "bs.find('span', {'id':'Ratings'}).findNext('li').get_text().strip()"
   ]
  },
  {
   "cell_type": "code",
   "execution_count": 5,
   "metadata": {
    "collapsed": true
   },
   "outputs": [],
   "source": [
    "url = 'http://tardis.wikia.com/wiki/List_of_Doctor_Who_television_stories'\n",
    "bs = BeautifulSoup(requests.get(url).text, 'lxml')"
   ]
  },
  {
   "cell_type": "code",
   "execution_count": 6,
   "metadata": {},
   "outputs": [],
   "source": [
    "elem = bs.find('span', {'id':'Ninth_Doctor'})\n",
    "\n",
    "episodes = []\n",
    "while elem:\n",
    "    try:\n",
    "        elem = elem.findNext('tr')\n",
    "        tmp = elem.findAll('td')\n",
    "        if tmp:\n",
    "            if tmp[1].find('a'):\n",
    "                episodes.append(tmp[1].find('a')['href'])\n",
    "    except:\n",
    "        pass"
   ]
  },
  {
   "cell_type": "code",
   "execution_count": 7,
   "metadata": {},
   "outputs": [
    {
     "name": "stderr",
     "output_type": "stream",
     "text": [
      " 65%|██████▌   | 149/229 [01:16<00:52,  1.52it/s]"
     ]
    },
    {
     "name": "stdout",
     "output_type": "stream",
     "text": [
      "Fehler: /wiki/Season_4\n"
     ]
    },
    {
     "name": "stderr",
     "output_type": "stream",
     "text": [
      " 67%|██████▋   | 153/229 [01:19<00:56,  1.34it/s]"
     ]
    },
    {
     "name": "stdout",
     "output_type": "stream",
     "text": [
      "Fehler: /wiki/Season_7\n"
     ]
    },
    {
     "name": "stderr",
     "output_type": "stream",
     "text": [
      " 69%|██████▉   | 159/229 [01:23<00:47,  1.47it/s]"
     ]
    },
    {
     "name": "stdout",
     "output_type": "stream",
     "text": [
      "Fehler: /wiki/Season_12\n"
     ]
    },
    {
     "name": "stderr",
     "output_type": "stream",
     "text": [
      " 75%|███████▌  | 172/229 [01:30<00:37,  1.53it/s]"
     ]
    },
    {
     "name": "stdout",
     "output_type": "stream",
     "text": [
      "Fehler: /wiki/Season_21\n"
     ]
    },
    {
     "name": "stderr",
     "output_type": "stream",
     "text": [
      " 77%|███████▋  | 176/229 [01:33<00:30,  1.72it/s]"
     ]
    },
    {
     "name": "stdout",
     "output_type": "stream",
     "text": [
      "Fehler: /wiki/Season_24\n"
     ]
    },
    {
     "name": "stderr",
     "output_type": "stream",
     "text": [
      " 79%|███████▊  | 180/229 [01:35<00:25,  1.89it/s]"
     ]
    },
    {
     "name": "stdout",
     "output_type": "stream",
     "text": [
      "Fehler: /wiki/1996_(releases)\n"
     ]
    },
    {
     "name": "stderr",
     "output_type": "stream",
     "text": [
      " 79%|███████▉  | 182/229 [01:36<00:26,  1.75it/s]"
     ]
    },
    {
     "name": "stdout",
     "output_type": "stream",
     "text": [
      "Fehler: /wiki/Series_1_(Doctor_Who)\n"
     ]
    },
    {
     "name": "stderr",
     "output_type": "stream",
     "text": [
      " 81%|████████  | 185/229 [01:38<00:24,  1.79it/s]"
     ]
    },
    {
     "name": "stdout",
     "output_type": "stream",
     "text": [
      "Fehler: /wiki/Series_2_(Doctor_Who)\n"
     ]
    },
    {
     "name": "stderr",
     "output_type": "stream",
     "text": [
      " 83%|████████▎ | 190/229 [01:40<00:18,  2.09it/s]"
     ]
    },
    {
     "name": "stdout",
     "output_type": "stream",
     "text": [
      "Fehler: /wiki/Christmas_special\n"
     ]
    },
    {
     "name": "stderr",
     "output_type": "stream",
     "text": [
      " 88%|████████▊ | 201/229 [01:47<00:19,  1.43it/s]"
     ]
    },
    {
     "name": "stdout",
     "output_type": "stream",
     "text": [
      "Fehler: /wiki/Series_5_(Doctor_Who)\n"
     ]
    },
    {
     "name": "stderr",
     "output_type": "stream",
     "text": [
      " 89%|████████▉ | 204/229 [01:48<00:12,  2.06it/s]"
     ]
    },
    {
     "name": "stdout",
     "output_type": "stream",
     "text": [
      "Fehler: /wiki/Christmas_special\n"
     ]
    },
    {
     "name": "stderr",
     "output_type": "stream",
     "text": [
      " 92%|█████████▏| 210/229 [01:51<00:08,  2.25it/s]"
     ]
    },
    {
     "name": "stdout",
     "output_type": "stream",
     "text": [
      "Fehler: /wiki/Christmas_special\n"
     ]
    },
    {
     "name": "stderr",
     "output_type": "stream",
     "text": [
      " 95%|█████████▌| 218/229 [01:55<00:07,  1.56it/s]"
     ]
    },
    {
     "name": "stdout",
     "output_type": "stream",
     "text": [
      "Fehler: /wiki/Series_8_(Doctor_Who)\n"
     ]
    },
    {
     "name": "stderr",
     "output_type": "stream",
     "text": [
      " 97%|█████████▋| 221/229 [01:57<00:04,  1.94it/s]"
     ]
    },
    {
     "name": "stdout",
     "output_type": "stream",
     "text": [
      "Fehler: /wiki/Christmas_special\n"
     ]
    },
    {
     "name": "stderr",
     "output_type": "stream",
     "text": [
      "100%|██████████| 229/229 [02:01<00:00,  1.76it/s]\n"
     ]
    }
   ],
   "source": [
    "url = 'http://tardis.wikia.com'\n",
    "\n",
    "ratings = []\n",
    "for episode in tqdm(episodes):\n",
    "    bs = BeautifulSoup(requests.get(url+episode).text, 'lxml')\n",
    "    try:\n",
    "        try:\n",
    "            target = bs.find('span', {'id':'Ratings'}).findNext('li').get_text().strip()\n",
    "        except:\n",
    "            target = bs.find('span', {'id':'Rating'}).findNext('li').get_text().strip()\n",
    "        found = re.search(num, target)\n",
    "        if found:\n",
    "            ratings.append(float(found[0])*1000000)\n",
    "        else:\n",
    "            ratings.append(0.0)\n",
    "    except:\n",
    "        ratings.append(0.0)\n",
    "        print('Fehler: {}'.format(episode))"
   ]
  },
  {
   "cell_type": "code",
   "execution_count": 8,
   "metadata": {
    "collapsed": true
   },
   "outputs": [],
   "source": [
    "import pandas as pd\n",
    "df = pd.DataFrame(columns=['Episode', 'Rating'])\n",
    "df['Episode'] = episodes\n",
    "df['Rating'] = ratings"
   ]
  },
  {
   "cell_type": "code",
   "execution_count": 9,
   "metadata": {
    "collapsed": true
   },
   "outputs": [],
   "source": [
    "import matplotlib.pyplot as plt"
   ]
  },
  {
   "cell_type": "code",
   "execution_count": 10,
   "metadata": {},
   "outputs": [
    {
     "data": {
      "text/html": [
       "<div>\n",
       "<style>\n",
       "    .dataframe thead tr:only-child th {\n",
       "        text-align: right;\n",
       "    }\n",
       "\n",
       "    .dataframe thead th {\n",
       "        text-align: left;\n",
       "    }\n",
       "\n",
       "    .dataframe tbody tr th {\n",
       "        vertical-align: top;\n",
       "    }\n",
       "</style>\n",
       "<table border=\"1\" class=\"dataframe\">\n",
       "  <thead>\n",
       "    <tr style=\"text-align: right;\">\n",
       "      <th></th>\n",
       "      <th>Episode</th>\n",
       "      <th>Rating</th>\n",
       "    </tr>\n",
       "  </thead>\n",
       "  <tbody>\n",
       "    <tr>\n",
       "      <th>0</th>\n",
       "      <td>/wiki/Rose_(TV_story)</td>\n",
       "      <td>10810000.0</td>\n",
       "    </tr>\n",
       "    <tr>\n",
       "      <th>1</th>\n",
       "      <td>/wiki/The_End_of_the_World_(TV_story)</td>\n",
       "      <td>7970000.0</td>\n",
       "    </tr>\n",
       "    <tr>\n",
       "      <th>2</th>\n",
       "      <td>/wiki/The_Unquiet_Dead_(TV_story)</td>\n",
       "      <td>8860000.0</td>\n",
       "    </tr>\n",
       "    <tr>\n",
       "      <th>3</th>\n",
       "      <td>/wiki/Aliens_of_London_(TV_story)</td>\n",
       "      <td>7630000.0</td>\n",
       "    </tr>\n",
       "    <tr>\n",
       "      <th>4</th>\n",
       "      <td>/wiki/World_War_Three_(TV_story)</td>\n",
       "      <td>7600000.0</td>\n",
       "    </tr>\n",
       "    <tr>\n",
       "      <th>5</th>\n",
       "      <td>/wiki/Dalek_(TV_story)</td>\n",
       "      <td>8600000.0</td>\n",
       "    </tr>\n",
       "    <tr>\n",
       "      <th>6</th>\n",
       "      <td>/wiki/The_Long_Game_(TV_story)</td>\n",
       "      <td>8010000.0</td>\n",
       "    </tr>\n",
       "    <tr>\n",
       "      <th>7</th>\n",
       "      <td>/wiki/Father%27s_Day_(TV_story)</td>\n",
       "      <td>8060000.0</td>\n",
       "    </tr>\n",
       "    <tr>\n",
       "      <th>8</th>\n",
       "      <td>/wiki/The_Empty_Child_(TV_story)</td>\n",
       "      <td>7100000.0</td>\n",
       "    </tr>\n",
       "    <tr>\n",
       "      <th>9</th>\n",
       "      <td>/wiki/The_Doctor_Dances_(TV_story)</td>\n",
       "      <td>0.0</td>\n",
       "    </tr>\n",
       "    <tr>\n",
       "      <th>10</th>\n",
       "      <td>/wiki/Boom_Town_(TV_story)</td>\n",
       "      <td>7700000.0</td>\n",
       "    </tr>\n",
       "    <tr>\n",
       "      <th>11</th>\n",
       "      <td>/wiki/Bad_Wolf_(TV_story)</td>\n",
       "      <td>6800000.0</td>\n",
       "    </tr>\n",
       "    <tr>\n",
       "      <th>12</th>\n",
       "      <td>/wiki/The_Parting_of_the_Ways_(TV_story)</td>\n",
       "      <td>6900000.0</td>\n",
       "    </tr>\n",
       "    <tr>\n",
       "      <th>13</th>\n",
       "      <td>/wiki/The_Christmas_Invasion_(TV_story)</td>\n",
       "      <td>9840000.0</td>\n",
       "    </tr>\n",
       "    <tr>\n",
       "      <th>14</th>\n",
       "      <td>/wiki/New_Earth_(TV_story)</td>\n",
       "      <td>8620000.0</td>\n",
       "    </tr>\n",
       "    <tr>\n",
       "      <th>15</th>\n",
       "      <td>/wiki/Tooth_and_Claw_(TV_story)</td>\n",
       "      <td>9240000.0</td>\n",
       "    </tr>\n",
       "    <tr>\n",
       "      <th>16</th>\n",
       "      <td>/wiki/School_Reunion_(TV_story)</td>\n",
       "      <td>7600000.0</td>\n",
       "    </tr>\n",
       "    <tr>\n",
       "      <th>17</th>\n",
       "      <td>/wiki/The_Girl_in_the_Fireplace_(TV_story)</td>\n",
       "      <td>7400000.0</td>\n",
       "    </tr>\n",
       "    <tr>\n",
       "      <th>18</th>\n",
       "      <td>/wiki/Rise_of_the_Cybermen_(TV_story)</td>\n",
       "      <td>9220000.0</td>\n",
       "    </tr>\n",
       "    <tr>\n",
       "      <th>19</th>\n",
       "      <td>/wiki/The_Age_of_Steel_(TV_story)</td>\n",
       "      <td>6850000.0</td>\n",
       "    </tr>\n",
       "    <tr>\n",
       "      <th>20</th>\n",
       "      <td>/wiki/The_Idiot%27s_Lantern_(TV_story)</td>\n",
       "      <td>6320000.0</td>\n",
       "    </tr>\n",
       "    <tr>\n",
       "      <th>21</th>\n",
       "      <td>/wiki/The_Impossible_Planet_(TV_story)</td>\n",
       "      <td>6310000.0</td>\n",
       "    </tr>\n",
       "    <tr>\n",
       "      <th>22</th>\n",
       "      <td>/wiki/The_Satan_Pit_(TV_story)</td>\n",
       "      <td>5500000.0</td>\n",
       "    </tr>\n",
       "    <tr>\n",
       "      <th>23</th>\n",
       "      <td>/wiki/Love_%26_Monsters_(TV_story)</td>\n",
       "      <td>6700000.0</td>\n",
       "    </tr>\n",
       "    <tr>\n",
       "      <th>24</th>\n",
       "      <td>/wiki/Fear_Her_(TV_story)</td>\n",
       "      <td>7140000.0</td>\n",
       "    </tr>\n",
       "    <tr>\n",
       "      <th>25</th>\n",
       "      <td>/wiki/Army_of_Ghosts_(TV_story)</td>\n",
       "      <td>8190000.0</td>\n",
       "    </tr>\n",
       "    <tr>\n",
       "      <th>26</th>\n",
       "      <td>/wiki/Doomsday_(TV_story)</td>\n",
       "      <td>8220000.0</td>\n",
       "    </tr>\n",
       "    <tr>\n",
       "      <th>27</th>\n",
       "      <td>/wiki/The_Runaway_Bride_(TV_story)</td>\n",
       "      <td>9300000.0</td>\n",
       "    </tr>\n",
       "    <tr>\n",
       "      <th>28</th>\n",
       "      <td>/wiki/Smith_and_Jones_(TV_story)</td>\n",
       "      <td>8710000.0</td>\n",
       "    </tr>\n",
       "    <tr>\n",
       "      <th>29</th>\n",
       "      <td>/wiki/The_Shakespeare_Code_(TV_story)</td>\n",
       "      <td>7220000.0</td>\n",
       "    </tr>\n",
       "    <tr>\n",
       "      <th>...</th>\n",
       "      <td>...</td>\n",
       "      <td>...</td>\n",
       "    </tr>\n",
       "    <tr>\n",
       "      <th>199</th>\n",
       "      <td>/wiki/The_Next_Doctor_(TV_story)</td>\n",
       "      <td>13100000.0</td>\n",
       "    </tr>\n",
       "    <tr>\n",
       "      <th>200</th>\n",
       "      <td>/wiki/Series_5_(Doctor_Who)</td>\n",
       "      <td>0.0</td>\n",
       "    </tr>\n",
       "    <tr>\n",
       "      <th>201</th>\n",
       "      <td>/wiki/The_Eleventh_Hour_(TV_story)</td>\n",
       "      <td>8400000.0</td>\n",
       "    </tr>\n",
       "    <tr>\n",
       "      <th>202</th>\n",
       "      <td>/wiki/The_Eleventh_Hour_(TV_story)</td>\n",
       "      <td>8400000.0</td>\n",
       "    </tr>\n",
       "    <tr>\n",
       "      <th>203</th>\n",
       "      <td>/wiki/Christmas_special</td>\n",
       "      <td>0.0</td>\n",
       "    </tr>\n",
       "    <tr>\n",
       "      <th>204</th>\n",
       "      <td>/wiki/A_Christmas_Carol_(TV_story)</td>\n",
       "      <td>10300000.0</td>\n",
       "    </tr>\n",
       "    <tr>\n",
       "      <th>205</th>\n",
       "      <td>/wiki/Space_(TV_story)</td>\n",
       "      <td>0.0</td>\n",
       "    </tr>\n",
       "    <tr>\n",
       "      <th>206</th>\n",
       "      <td>/wiki/The_Impossible_Astronaut_(TV_story)</td>\n",
       "      <td>8860000.0</td>\n",
       "    </tr>\n",
       "    <tr>\n",
       "      <th>207</th>\n",
       "      <td>/wiki/Let%27s_Kill_Hitler_(TV_story)</td>\n",
       "      <td>6200000.0</td>\n",
       "    </tr>\n",
       "    <tr>\n",
       "      <th>208</th>\n",
       "      <td>/wiki/Death_Is_the_Only_Answer_(TV_story)</td>\n",
       "      <td>0.0</td>\n",
       "    </tr>\n",
       "    <tr>\n",
       "      <th>209</th>\n",
       "      <td>/wiki/Christmas_special</td>\n",
       "      <td>0.0</td>\n",
       "    </tr>\n",
       "    <tr>\n",
       "      <th>210</th>\n",
       "      <td>/wiki/The_Doctor,_the_Widow_and_the_Wardrobe_(...</td>\n",
       "      <td>8920000.0</td>\n",
       "    </tr>\n",
       "    <tr>\n",
       "      <th>211</th>\n",
       "      <td>/wiki/Good_as_Gold_(TV_story)</td>\n",
       "      <td>0.0</td>\n",
       "    </tr>\n",
       "    <tr>\n",
       "      <th>212</th>\n",
       "      <td>/wiki/Asylum_of_the_Daleks_(TV_story)</td>\n",
       "      <td>0.0</td>\n",
       "    </tr>\n",
       "    <tr>\n",
       "      <th>213</th>\n",
       "      <td>/wiki/The_Great_Detective_(TV_story)</td>\n",
       "      <td>0.0</td>\n",
       "    </tr>\n",
       "    <tr>\n",
       "      <th>214</th>\n",
       "      <td>/wiki/The_Snowmen_(TV_story)</td>\n",
       "      <td>9870000.0</td>\n",
       "    </tr>\n",
       "    <tr>\n",
       "      <th>215</th>\n",
       "      <td>/wiki/The_Bells_of_Saint_John_(TV_story)</td>\n",
       "      <td>8440000.0</td>\n",
       "    </tr>\n",
       "    <tr>\n",
       "      <th>216</th>\n",
       "      <td>/wiki/The_Day_of_the_Doctor_(TV_story)</td>\n",
       "      <td>12800000.0</td>\n",
       "    </tr>\n",
       "    <tr>\n",
       "      <th>217</th>\n",
       "      <td>/wiki/Series_8_(Doctor_Who)</td>\n",
       "      <td>0.0</td>\n",
       "    </tr>\n",
       "    <tr>\n",
       "      <th>218</th>\n",
       "      <td>/wiki/Deep_Breath_(TV_story)</td>\n",
       "      <td>9170000.0</td>\n",
       "    </tr>\n",
       "    <tr>\n",
       "      <th>219</th>\n",
       "      <td>/wiki/Deep_Breath_(TV_story)</td>\n",
       "      <td>9170000.0</td>\n",
       "    </tr>\n",
       "    <tr>\n",
       "      <th>220</th>\n",
       "      <td>/wiki/Christmas_special</td>\n",
       "      <td>0.0</td>\n",
       "    </tr>\n",
       "    <tr>\n",
       "      <th>221</th>\n",
       "      <td>/wiki/Last_Christmas_(TV_story)</td>\n",
       "      <td>8280000.0</td>\n",
       "    </tr>\n",
       "    <tr>\n",
       "      <th>222</th>\n",
       "      <td>/wiki/The_Doctor%27s_Meditation_(TV_story)</td>\n",
       "      <td>0.0</td>\n",
       "    </tr>\n",
       "    <tr>\n",
       "      <th>223</th>\n",
       "      <td>/wiki/The_Magician%27s_Apprentice_(TV_story)</td>\n",
       "      <td>4580000.0</td>\n",
       "    </tr>\n",
       "    <tr>\n",
       "      <th>224</th>\n",
       "      <td>/wiki/The_Husbands_of_River_Song_(TV_story)</td>\n",
       "      <td>5770000.0</td>\n",
       "    </tr>\n",
       "    <tr>\n",
       "      <th>225</th>\n",
       "      <td>/wiki/The_Return_of_Doctor_Mysterio_(TV_story)</td>\n",
       "      <td>7830000.0</td>\n",
       "    </tr>\n",
       "    <tr>\n",
       "      <th>226</th>\n",
       "      <td>/wiki/The_Return_of_Doctor_Mysterio_(TV_story)</td>\n",
       "      <td>7830000.0</td>\n",
       "    </tr>\n",
       "    <tr>\n",
       "      <th>227</th>\n",
       "      <td>/wiki/The_Pilot_(TV_story)</td>\n",
       "      <td>0.0</td>\n",
       "    </tr>\n",
       "    <tr>\n",
       "      <th>228</th>\n",
       "      <td>/wiki/Twice_Upon_a_Time_(TV_story)</td>\n",
       "      <td>7920000.0</td>\n",
       "    </tr>\n",
       "  </tbody>\n",
       "</table>\n",
       "<p>229 rows × 2 columns</p>\n",
       "</div>"
      ],
      "text/plain": [
       "                                               Episode      Rating\n",
       "0                                /wiki/Rose_(TV_story)  10810000.0\n",
       "1                /wiki/The_End_of_the_World_(TV_story)   7970000.0\n",
       "2                    /wiki/The_Unquiet_Dead_(TV_story)   8860000.0\n",
       "3                    /wiki/Aliens_of_London_(TV_story)   7630000.0\n",
       "4                     /wiki/World_War_Three_(TV_story)   7600000.0\n",
       "5                               /wiki/Dalek_(TV_story)   8600000.0\n",
       "6                       /wiki/The_Long_Game_(TV_story)   8010000.0\n",
       "7                      /wiki/Father%27s_Day_(TV_story)   8060000.0\n",
       "8                     /wiki/The_Empty_Child_(TV_story)   7100000.0\n",
       "9                   /wiki/The_Doctor_Dances_(TV_story)         0.0\n",
       "10                          /wiki/Boom_Town_(TV_story)   7700000.0\n",
       "11                           /wiki/Bad_Wolf_(TV_story)   6800000.0\n",
       "12            /wiki/The_Parting_of_the_Ways_(TV_story)   6900000.0\n",
       "13             /wiki/The_Christmas_Invasion_(TV_story)   9840000.0\n",
       "14                          /wiki/New_Earth_(TV_story)   8620000.0\n",
       "15                     /wiki/Tooth_and_Claw_(TV_story)   9240000.0\n",
       "16                     /wiki/School_Reunion_(TV_story)   7600000.0\n",
       "17          /wiki/The_Girl_in_the_Fireplace_(TV_story)   7400000.0\n",
       "18               /wiki/Rise_of_the_Cybermen_(TV_story)   9220000.0\n",
       "19                   /wiki/The_Age_of_Steel_(TV_story)   6850000.0\n",
       "20              /wiki/The_Idiot%27s_Lantern_(TV_story)   6320000.0\n",
       "21              /wiki/The_Impossible_Planet_(TV_story)   6310000.0\n",
       "22                      /wiki/The_Satan_Pit_(TV_story)   5500000.0\n",
       "23                  /wiki/Love_%26_Monsters_(TV_story)   6700000.0\n",
       "24                           /wiki/Fear_Her_(TV_story)   7140000.0\n",
       "25                     /wiki/Army_of_Ghosts_(TV_story)   8190000.0\n",
       "26                           /wiki/Doomsday_(TV_story)   8220000.0\n",
       "27                  /wiki/The_Runaway_Bride_(TV_story)   9300000.0\n",
       "28                    /wiki/Smith_and_Jones_(TV_story)   8710000.0\n",
       "29               /wiki/The_Shakespeare_Code_(TV_story)   7220000.0\n",
       "..                                                 ...         ...\n",
       "199                   /wiki/The_Next_Doctor_(TV_story)  13100000.0\n",
       "200                        /wiki/Series_5_(Doctor_Who)         0.0\n",
       "201                 /wiki/The_Eleventh_Hour_(TV_story)   8400000.0\n",
       "202                 /wiki/The_Eleventh_Hour_(TV_story)   8400000.0\n",
       "203                            /wiki/Christmas_special         0.0\n",
       "204                 /wiki/A_Christmas_Carol_(TV_story)  10300000.0\n",
       "205                             /wiki/Space_(TV_story)         0.0\n",
       "206          /wiki/The_Impossible_Astronaut_(TV_story)   8860000.0\n",
       "207               /wiki/Let%27s_Kill_Hitler_(TV_story)   6200000.0\n",
       "208          /wiki/Death_Is_the_Only_Answer_(TV_story)         0.0\n",
       "209                            /wiki/Christmas_special         0.0\n",
       "210  /wiki/The_Doctor,_the_Widow_and_the_Wardrobe_(...   8920000.0\n",
       "211                      /wiki/Good_as_Gold_(TV_story)         0.0\n",
       "212              /wiki/Asylum_of_the_Daleks_(TV_story)         0.0\n",
       "213               /wiki/The_Great_Detective_(TV_story)         0.0\n",
       "214                       /wiki/The_Snowmen_(TV_story)   9870000.0\n",
       "215           /wiki/The_Bells_of_Saint_John_(TV_story)   8440000.0\n",
       "216             /wiki/The_Day_of_the_Doctor_(TV_story)  12800000.0\n",
       "217                        /wiki/Series_8_(Doctor_Who)         0.0\n",
       "218                       /wiki/Deep_Breath_(TV_story)   9170000.0\n",
       "219                       /wiki/Deep_Breath_(TV_story)   9170000.0\n",
       "220                            /wiki/Christmas_special         0.0\n",
       "221                    /wiki/Last_Christmas_(TV_story)   8280000.0\n",
       "222         /wiki/The_Doctor%27s_Meditation_(TV_story)         0.0\n",
       "223       /wiki/The_Magician%27s_Apprentice_(TV_story)   4580000.0\n",
       "224        /wiki/The_Husbands_of_River_Song_(TV_story)   5770000.0\n",
       "225     /wiki/The_Return_of_Doctor_Mysterio_(TV_story)   7830000.0\n",
       "226     /wiki/The_Return_of_Doctor_Mysterio_(TV_story)   7830000.0\n",
       "227                         /wiki/The_Pilot_(TV_story)         0.0\n",
       "228                 /wiki/Twice_Upon_a_Time_(TV_story)   7920000.0\n",
       "\n",
       "[229 rows x 2 columns]"
      ]
     },
     "execution_count": 10,
     "metadata": {},
     "output_type": "execute_result"
    }
   ],
   "source": [
    "df"
   ]
  },
  {
   "cell_type": "code",
   "execution_count": 11,
   "metadata": {},
   "outputs": [
    {
     "data": {
      "image/png": "[encoded data removed]",
      "text/plain": [
       "<matplotlib.figure.Figure at 0x7f558ab4fb38>"
      ]
     },
     "metadata": {},
     "output_type": "display_data"
    }
   ],
   "source": [
    "df['Rating'].plot()\n",
    "plt.show()"
   ]
  },
  {
   "cell_type": "code",
   "execution_count": null,
   "metadata": {
    "collapsed": true
   },
   "outputs": [],
   "source": []
  }
 ],
 "metadata": {
  "kernelspec": {
   "display_name": "Python 3",
   "language": "python",
   "name": "python3"
  },
  "language_info": {
   "codemirror_mode": {
    "name": "ipython",
    "version": 3
   },
   "file_extension": ".py",
   "mimetype": "text/x-python",
   "name": "python",
   "nbconvert_exporter": "python",
   "pygments_lexer": "ipython3",
   "version": "3.6.1"
  }
 },
 "nbformat": 4,
 "nbformat_minor": 2
}

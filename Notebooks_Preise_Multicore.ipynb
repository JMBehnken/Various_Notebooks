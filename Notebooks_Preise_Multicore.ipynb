{
 "cells": [
  {
   "cell_type": "code",
   "execution_count": null,
   "metadata": {
    "collapsed": true
   },
   "outputs": [],
   "source": [
    "import time\n",
    "from tqdm import tqdm\n",
    "from bs4 import BeautifulSoup\n",
    "from selenium import webdriver\n",
    "from multiprocessing.dummy import Pool"
   ]
  },
  {
   "cell_type": "code",
   "execution_count": null,
   "metadata": {
    "collapsed": true
   },
   "outputs": [],
   "source": [
    "url = 'https://www.notebooksbilliger.de/notebooks/page/{}?perPage=50&availability=sofort'"
   ]
  },
  {
   "cell_type": "code",
   "execution_count": null,
   "metadata": {},
   "outputs": [],
   "source": [
    "n = 7\n",
    "queries = list(range(1, 32))\n",
    "chunks = [queries[x:x+n] for x in range(0, len(queries), n)]\n",
    "len(chunks)"
   ]
  },
  {
   "cell_type": "code",
   "execution_count": null,
   "metadata": {
    "collapsed": true
   },
   "outputs": [],
   "source": [
    "def search(queries):\n",
    "    links = []\n",
    "    driver = webdriver.Firefox()\n",
    "    time.sleep(8)\n",
    "    for i in queries:\n",
    "        driver.get(url.format(i))\n",
    "        time.sleep(4)\n",
    "        html = driver.page_source\n",
    "        try:\n",
    "            bs = BeautifulSoup(html, 'lxml').find('div', {'id':'listing'})\n",
    "            for elem in bs.findAll('a', {'class':'left'}):\n",
    "                links.append(elem['href'])\n",
    "        except:\n",
    "            pass\n",
    "    driver.close()\n",
    "    return links"
   ]
  },
  {
   "cell_type": "code",
   "execution_count": null,
   "metadata": {},
   "outputs": [],
   "source": [
    "pool = Pool(5)\n",
    "futures = []\n",
    "for query in chunks:\n",
    "    futures.append(pool.apply_async(search, [query]))\n",
    "    \n",
    "data = [link.get() for link in futures]\n",
    "links = [item for sublist in data for item in sublist]\n",
    "print('Links: {}'.format(len(links)))"
   ]
  },
  {
   "cell_type": "code",
   "execution_count": null,
   "metadata": {
    "collapsed": true
   },
   "outputs": [],
   "source": []
  },
  {
   "cell_type": "code",
   "execution_count": null,
   "metadata": {},
   "outputs": [],
   "source": [
    "n = 292\n",
    "chunks = [links[x:x+n] for x in range(0, len(links), n)]\n",
    "print('Chunks:', len(chunks))\n",
    "\n",
    "for i in chunks:\n",
    "    print(len(i))"
   ]
  },
  {
   "cell_type": "code",
   "execution_count": null,
   "metadata": {
    "collapsed": true
   },
   "outputs": [],
   "source": [
    "def load(query):\n",
    "    driver = webdriver.Firefox()\n",
    "    time.sleep(8)\n",
    "    data = []\n",
    "    for link in query:\n",
    "    \n",
    "        try:\n",
    "            driver.get(link)\n",
    "            time.sleep(4)\n",
    "            html = driver.page_source\n",
    "            bs = BeautifulSoup(html, 'lxml')\n",
    "    \n",
    "            product = {}\n",
    "            product['Link'] = link\n",
    "            product['Preis'] = bs.find('div', {'id':'product_detail_price'}).find('text', {'class':'nbb-svg-base'}).get_text()\n",
    "            for row in bs.find('table', {'class':'properties_table'}).findAll('tr'):\n",
    "                try:\n",
    "                    product[row.find('td', {'class':'produktDetails_eigenschaft2'}).get_text().strip()] = row.find('td', {'class':'produktDetails_eigenschaft3'}).get_text().strip()\n",
    "                except:\n",
    "                    pass\n",
    "            data.append(product)\n",
    "        except:\n",
    "            pass\n",
    "    driver.close()\n",
    "    return data"
   ]
  },
  {
   "cell_type": "code",
   "execution_count": null,
   "metadata": {},
   "outputs": [],
   "source": [
    "pool = Pool(5)\n",
    "futures = []\n",
    "for query in chunks:\n",
    "    futures.append(pool.apply_async(load, [query]))\n",
    "    \n",
    "data = [link.get() for link in futures]\n",
    "products = [item for sublist in data for item in sublist]\n",
    "print('Links: {}'.format(len(products)))"
   ]
  },
  {
   "cell_type": "code",
   "execution_count": null,
   "metadata": {
    "collapsed": true
   },
   "outputs": [],
   "source": []
  },
  {
   "cell_type": "code",
   "execution_count": null,
   "metadata": {
    "collapsed": true,
    "scrolled": false
   },
   "outputs": [],
   "source": [
    "import pandas as pd"
   ]
  },
  {
   "cell_type": "code",
   "execution_count": null,
   "metadata": {},
   "outputs": [],
   "source": [
    "df = pd.DataFrame(products)\n",
    "print(df.shape)\n",
    "df.head()"
   ]
  },
  {
   "cell_type": "code",
   "execution_count": null,
   "metadata": {},
   "outputs": [],
   "source": [
    "df.columns"
   ]
  },
  {
   "cell_type": "code",
   "execution_count": null,
   "metadata": {
    "collapsed": true
   },
   "outputs": [],
   "source": []
  },
  {
   "cell_type": "code",
   "execution_count": null,
   "metadata": {},
   "outputs": [],
   "source": [
    "work = df[['Grafikkarte', 'Größe', 'Kapazität (Gesamt)', 'Preis', 'max. Erweiterung auf', 'Link']].dropna()\n",
    "work['Größe'] = work['Größe'].apply(lambda x: x.split(' ')[0]).astype(int)\n",
    "work['Kapazität (Gesamt)'] = work['Kapazität (Gesamt)'].apply(lambda x: x.split(' ')[0]).astype(int)\n",
    "work['max. Erweiterung auf'] = work['max. Erweiterung auf'].apply(lambda x: x.split(' ')[0])\n",
    "work = work[work['max. Erweiterung auf']!='keine']\n",
    "work['max. Erweiterung auf'] = work['max. Erweiterung auf'].astype(int)\n",
    "work['Preis'] = work['Preis'].apply(lambda x: x.replace('.', '').replace(',', '.')).astype(float)\n",
    "work = work[work['Grafikkarte'].apply(lambda x: True if 'GeForce' in x else False)].groupby('Grafikkarte').agg({'Größe':'mean', 'Kapazität (Gesamt)':'mean', 'Preis':'mean', 'max. Erweiterung auf':'mean', 'Link':'count'}).sort_values('Preis')\n",
    "work"
   ]
  },
  {
   "cell_type": "code",
   "execution_count": null,
   "metadata": {
    "collapsed": true
   },
   "outputs": [],
   "source": [
    "df.to_csv('Laptops.csv', index=False)"
   ]
  },
  {
   "cell_type": "code",
   "execution_count": null,
   "metadata": {
    "collapsed": true
   },
   "outputs": [],
   "source": []
  }
 ],
 "metadata": {
  "kernelspec": {
   "display_name": "Python 3",
   "language": "python",
   "name": "python3"
  },
  "language_info": {
   "codemirror_mode": {
    "name": "ipython",
    "version": 3
   },
   "file_extension": ".py",
   "mimetype": "text/x-python",
   "name": "python",
   "nbconvert_exporter": "python",
   "pygments_lexer": "ipython3",
   "version": "3.6.1"
  }
 },
 "nbformat": 4,
 "nbformat_minor": 2
}

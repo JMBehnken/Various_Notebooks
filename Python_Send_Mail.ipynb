{
 "cells": [
  {
   "cell_type": "code",
   "execution_count": null,
   "metadata": {
    "collapsed": true
   },
   "outputs": [],
   "source": [
    "import smtplib\n",
    "from email.mime.multipart import MIMEMultipart\n",
    "from email.mime.base import MIMEBase\n",
    "from email.mime.text import MIMEText\n",
    "from email.utils import COMMASPACE, formatdate\n",
    "from email.encoders import encode_base64\n",
    "import os"
   ]
  },
  {
   "cell_type": "code",
   "execution_count": null,
   "metadata": {
    "collapsed": true
   },
   "outputs": [],
   "source": [
    "emails = ['', '']\n",
    "subject = ''\n",
    "body = ''"
   ]
  },
  {
   "cell_type": "code",
   "execution_count": null,
   "metadata": {
    "collapsed": true
   },
   "outputs": [],
   "source": [
    "def sendMail(to, subject, text, files=[]):\n",
    "    assert type(to)==list\n",
    "    assert type(files)==list\n",
    "\n",
    "    msg = MIMEMultipart()\n",
    "    msg['From'] = USERNAME\n",
    "    msg['To'] = COMMASPACE.join(to)\n",
    "    msg['Date'] = formatdate(localtime=True)\n",
    "    msg['Subject'] = subject\n",
    "\n",
    "    msg.attach( MIMEText(text) )\n",
    "\n",
    "    for file in files:\n",
    "        part = MIMEBase('application', \"octet-stream\")\n",
    "        part.set_payload( open(file,\"rb\").read() )\n",
    "        encode_base64(part)\n",
    "        part.add_header('Content-Disposition', 'attachment; filename=\"%s\"'\n",
    "                       % os.path.basename(file))\n",
    "        msg.attach(part)\n",
    "\n",
    "        server = smtplib.SMTP('smtp.gmail.com:587')\n",
    "        server.ehlo_or_helo_if_needed()\n",
    "        server.starttls()\n",
    "        server.ehlo_or_helo_if_needed()\n",
    "        server.login(USERNAME,PASSWORD)\n",
    "        server.sendmail(USERNAME, to, msg.as_string())\n",
    "        server.quit()"
   ]
  },
  {
   "cell_type": "code",
   "execution_count": null,
   "metadata": {
    "collapsed": true
   },
   "outputs": [],
   "source": [
    "################## Account-Daten eingeben ##############\n",
    "USERNAME = 'email@email.de'\n",
    "PASSWORD = \"password\"\n",
    "safety = True\n",
    "\n",
    "test = input()\n",
    "if test=='ja':\n",
    "    #FILES = 'file'\n",
    "    #dateien = FILES.split(\",\")\n",
    "    \n",
    "    i = 1\n",
    "    for adresses in emails:\n",
    "        adresses = [adress if not adress.endswith('.') else adress[:-1] for adress in set(adresses[1:-1].replace(\"'\", '').split(', ')) if adress]\n",
    "        \n",
    "        if adresses:\n",
    "            SUBJECT = subject\n",
    "            BODY = body\n",
    "            \n",
    "            for TARGET in adresses:\n",
    "                print(i, TARGET)\n",
    "                i += 1\n",
    "                if safety:\n",
    "                    TARGET = \"\"\n",
    "\n",
    "                try:\n",
    "                    sendMail([TARGET],SUBJECT,BODY,dateien)\n",
    "                    print('Gesendet!')\n",
    "                except:\n",
    "                    print('Fehler: {}'.format(TARGET))\n"
   ]
  },
  {
   "cell_type": "code",
   "execution_count": null,
   "metadata": {
    "collapsed": true
   },
   "outputs": [],
   "source": []
  }
 ],
 "metadata": {
  "kernelspec": {
   "display_name": "Python 3",
   "language": "python",
   "name": "python3"
  },
  "language_info": {
   "codemirror_mode": {
    "name": "ipython",
    "version": 3
   },
   "file_extension": ".py",
   "mimetype": "text/x-python",
   "name": "python",
   "nbconvert_exporter": "python",
   "pygments_lexer": "ipython3",
   "version": "3.6.1"
  }
 },
 "nbformat": 4,
 "nbformat_minor": 2
}

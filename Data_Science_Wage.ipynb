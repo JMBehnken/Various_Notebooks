{
 "cells": [
  {
   "cell_type": "code",
   "execution_count": 1,
   "metadata": {
    "collapsed": true
   },
   "outputs": [],
   "source": [
    "import re\n",
    "import requests\n",
    "import numpy as np\n",
    "from bs4 import BeautifulSoup"
   ]
  },
  {
   "cell_type": "code",
   "execution_count": 2,
   "metadata": {
    "collapsed": true
   },
   "outputs": [],
   "source": [
    "urls = ['https://www.freelancer.com/freelancers/skills/data_science/{}'.format(i) for i in range(1, 5)]"
   ]
  },
  {
   "cell_type": "code",
   "execution_count": 3,
   "metadata": {
    "collapsed": true
   },
   "outputs": [],
   "source": [
    "hourly = []\n",
    "\n",
    "pattern = re.compile('[0-9]+')\n",
    "for url in urls:\n",
    "    html = requests.get(url).text\n",
    "    bs = BeautifulSoup(html, 'lxml')\n",
    "\n",
    "    for freelancer in bs.findAll('li', {'class':'ns_result '}):\n",
    "        price = freelancer.find('span', {'class':'user-hourly-rate freelancer-hourlyrate'}).get_text()\n",
    "        price = re.search(pattern, price).group()\n",
    "        hourly.append(int(price))"
   ]
  },
  {
   "cell_type": "code",
   "execution_count": 4,
   "metadata": {},
   "outputs": [
    {
     "name": "stdout",
     "output_type": "stream",
     "text": [
      "Stundenlohn\n",
      "Mean: 29.725\n",
      "Std: 38.61540333856426\n"
     ]
    }
   ],
   "source": [
    "print('Stundenlohn\\nMean: {}\\nStd: {}'.format(np.mean(hourly), np.std(hourly)))"
   ]
  },
  {
   "cell_type": "code",
   "execution_count": null,
   "metadata": {
    "collapsed": true
   },
   "outputs": [],
   "source": []
  }
 ],
 "metadata": {
  "kernelspec": {
   "display_name": "Python 3",
   "language": "python",
   "name": "python3"
  },
  "language_info": {
   "codemirror_mode": {
    "name": "ipython",
    "version": 3
   },
   "file_extension": ".py",
   "mimetype": "text/x-python",
   "name": "python",
   "nbconvert_exporter": "python",
   "pygments_lexer": "ipython3",
   "version": "3.6.1"
  }
 },
 "nbformat": 4,
 "nbformat_minor": 2
}

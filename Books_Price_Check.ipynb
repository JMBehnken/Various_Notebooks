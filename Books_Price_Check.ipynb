{
 "cells": [
  {
   "cell_type": "markdown",
   "metadata": {},
   "source": [
    "# Get the best prices for used books at ebay and some resellers"
   ]
  },
  {
   "cell_type": "code",
   "execution_count": null,
   "metadata": {
    "collapsed": true
   },
   "outputs": [],
   "source": [
    "import isbnlib\n",
    "import pandas as pd\n",
    "from tqdm import tqdm"
   ]
  },
  {
   "cell_type": "code",
   "execution_count": null,
   "metadata": {
    "collapsed": true
   },
   "outputs": [],
   "source": [
    "with open('Buecher_ISBN.csv') as f:\n",
    "    isbns = f.read()[1:]"
   ]
  },
  {
   "cell_type": "code",
   "execution_count": null,
   "metadata": {},
   "outputs": [],
   "source": [
    "data = []\n",
    "for isbn in tqdm(isbns.split('\\n')):\n",
    "    try:\n",
    "        book = isbnlib.meta(isbn.replace('-', ''))\n",
    "        data.append(book)\n",
    "    except:\n",
    "        pass"
   ]
  },
  {
   "cell_type": "code",
   "execution_count": null,
   "metadata": {},
   "outputs": [],
   "source": [
    "data = [x for x in data if x]\n",
    "df_1 = pd.DataFrame(data)\n",
    "df_1.head()"
   ]
  },
  {
   "cell_type": "code",
   "execution_count": null,
   "metadata": {
    "collapsed": true
   },
   "outputs": [],
   "source": [
    "import requests\n",
    "from bs4 import BeautifulSoup\n",
    "import numpy as np\n",
    "import re\n",
    "p = re.compile('\\d+,\\d+')"
   ]
  },
  {
   "cell_type": "code",
   "execution_count": null,
   "metadata": {},
   "outputs": [],
   "source": [
    "data = []\n",
    "for isbn, title in tqdm(df_1[['ISBN-13', 'Title']].values):\n",
    "    query = isbn+ ' ' +title\n",
    "    \n",
    "    url = 'https://www.ebay.de/sch/i.html?_nkw={}&_in_kw=1&_ex_kw=&_sacat=0&LH_Sold=1&_udlo=&_udhi=&_samilow=&_samihi=&_sadis=10&_fpos=&LH_SALE_CURRENCY=0&_sop=12&_dmd=1&_ipg=50&LH_Complete=1'.format(query)\n",
    "    bs = BeautifulSoup(requests.get(url).text, 'lxml')\n",
    "    \n",
    "    prices = []\n",
    "    try:\n",
    "        for elem in bs.find('ul', {'id':'ListViewInner'}).findAll('li'):\n",
    "            if 'id' in elem.attrs:\n",
    "                price = elem.find('span', {'class':'bold bidsold'}).get_text().strip()\n",
    "                price_float = float(re.search(p, price)[0].replace(',', '.'))\n",
    "                prices.append(price_float)\n",
    "\n",
    "            if elem.find('div', {'class':'kand-expansion kand-expansion--list-view'}):\n",
    "                break\n",
    "    except:\n",
    "        pass\n",
    "    if prices:\n",
    "        prices = np.mean(prices)\n",
    "    else:\n",
    "        prices = 0.0\n",
    "    data.append([isbn, prices])"
   ]
  },
  {
   "cell_type": "code",
   "execution_count": null,
   "metadata": {},
   "outputs": [],
   "source": [
    "df_2 = pd.DataFrame(data, columns=['ISBN-13', 'Ebay'])\n",
    "df_2.head()"
   ]
  },
  {
   "cell_type": "code",
   "execution_count": null,
   "metadata": {},
   "outputs": [],
   "source": [
    "df_ebay = df_1.merge(df_2, on='ISBN-13', how='outer')\n",
    "df_ebay.head()"
   ]
  },
  {
   "cell_type": "code",
   "execution_count": null,
   "metadata": {
    "collapsed": true
   },
   "outputs": [],
   "source": [
    "from selenium import webdriver"
   ]
  },
  {
   "cell_type": "code",
   "execution_count": null,
   "metadata": {
    "collapsed": true
   },
   "outputs": [],
   "source": [
    "url = 'https://www.bonavendi.de/verkaufen/sammeleingabe.html'"
   ]
  },
  {
   "cell_type": "code",
   "execution_count": null,
   "metadata": {
    "collapsed": true
   },
   "outputs": [],
   "source": [
    "driver = webdriver.Firefox()\n",
    "driver.get(url)"
   ]
  },
  {
   "cell_type": "code",
   "execution_count": null,
   "metadata": {
    "collapsed": true
   },
   "outputs": [],
   "source": [
    "isbn_elem = driver.find_element_by_xpath(\"//textarea\")\n",
    "isbn_elem.clear()\n",
    "isbn_elem.send_keys(isbns)"
   ]
  },
  {
   "cell_type": "code",
   "execution_count": null,
   "metadata": {
    "collapsed": true
   },
   "outputs": [],
   "source": [
    "driver.find_element_by_xpath(\"//button[@class='btn btn-primary']\").click()"
   ]
  },
  {
   "cell_type": "code",
   "execution_count": null,
   "metadata": {
    "collapsed": true
   },
   "outputs": [],
   "source": [
    "url = 'https://www.bonavendi.de/verkaufen/korb.html'\n",
    "driver.get(url)"
   ]
  },
  {
   "cell_type": "markdown",
   "metadata": {},
   "source": [
    "Manuell Preise aktualisieren"
   ]
  },
  {
   "cell_type": "code",
   "execution_count": null,
   "metadata": {
    "collapsed": true
   },
   "outputs": [],
   "source": [
    "bs = BeautifulSoup(driver.page_source, 'lxml')"
   ]
  },
  {
   "cell_type": "code",
   "execution_count": null,
   "metadata": {
    "collapsed": true
   },
   "outputs": [],
   "source": [
    "driver.close()"
   ]
  },
  {
   "cell_type": "code",
   "execution_count": null,
   "metadata": {
    "collapsed": true
   },
   "outputs": [],
   "source": [
    "data = []\n",
    "for elem in bs.find('div', {'class':'bv-cart-body bv-cart-items-body col-md-9'}).find('tbody').findAll('tr'):\n",
    "    art_isbn = elem.find('p', {'class':'bv-barcode'}).get_text()\n",
    "    try:\n",
    "        art_buyer = elem.find('td', {'class':'bv-cart-items-partner hidden-sm hidden-xs'}).find('span').get_text()\n",
    "    except:\n",
    "        art_buyer = 'Missing'\n",
    "    try:\n",
    "        art_price = elem.find('div', {'class':'bv-cart-items-price'}).find('span').get_text().split('\\xa0')[0].replace(',', '.')\n",
    "    except:\n",
    "        art_price = '0'\n",
    "    data.append([art_isbn, art_buyer, art_price])"
   ]
  },
  {
   "cell_type": "code",
   "execution_count": null,
   "metadata": {
    "collapsed": true
   },
   "outputs": [],
   "source": [
    "df_3 = pd.DataFrame(data, columns=['ISBN-13', 'Best_Buy', 'Best_Price'])"
   ]
  },
  {
   "cell_type": "code",
   "execution_count": null,
   "metadata": {
    "collapsed": true
   },
   "outputs": [],
   "source": [
    "df = df_ebay.merge(df_3, on='ISBN-13', how='outer').fillna(0)"
   ]
  },
  {
   "cell_type": "code",
   "execution_count": null,
   "metadata": {
    "collapsed": true
   },
   "outputs": [],
   "source": [
    "for col in df.columns:\n",
    "    df[col] = df[col].astype('float', errors='ignore')"
   ]
  },
  {
   "cell_type": "code",
   "execution_count": null,
   "metadata": {},
   "outputs": [],
   "source": [
    "df.info()"
   ]
  },
  {
   "cell_type": "code",
   "execution_count": null,
   "metadata": {},
   "outputs": [],
   "source": [
    "df.sort_values('Ebay', ascending=False)[['Title', 'Ebay']]"
   ]
  },
  {
   "cell_type": "code",
   "execution_count": null,
   "metadata": {},
   "outputs": [],
   "source": [
    "df.sort_values('Best_Price', ascending=False)[['Title', 'Best_Price']]"
   ]
  },
  {
   "cell_type": "code",
   "execution_count": null,
   "metadata": {
    "collapsed": true
   },
   "outputs": [],
   "source": []
  }
 ],
 "metadata": {
  "kernelspec": {
   "display_name": "Python 3",
   "language": "python",
   "name": "python3"
  },
  "language_info": {
   "codemirror_mode": {
    "name": "ipython",
    "version": 3
   },
   "file_extension": ".py",
   "mimetype": "text/x-python",
   "name": "python",
   "nbconvert_exporter": "python",
   "pygments_lexer": "ipython3",
   "version": "3.6.1"
  }
 },
 "nbformat": 4,
 "nbformat_minor": 2
}

{
 "cells": [
  {
   "cell_type": "code",
   "execution_count": 1,
   "metadata": {
    "collapsed": true
   },
   "outputs": [],
   "source": [
    "import numpy as np"
   ]
  },
  {
   "cell_type": "code",
   "execution_count": 2,
   "metadata": {
    "collapsed": true
   },
   "outputs": [],
   "source": [
    "la = np.linalg\n",
    "words = ['I', 'like', 'enjoy', 'deep', 'learning', 'NLP', 'flying', '.']\n",
    "X = np.array([[0,2,1,0,0,0,0,0],\n",
    "             [2,0,0,1,0,1,0,0],\n",
    "             [1,0,0,0,0,0,1,0],\n",
    "             [0,1,0,0,1,0,0,0],\n",
    "             [0,0,0,1,0,0,0,1],\n",
    "             [0,1,0,0,0,0,0,1],\n",
    "             [0,0,1,0,0,0,0,1],\n",
    "             [0,0,0,0,1,1,1,0]])"
   ]
  },
  {
   "cell_type": "code",
   "execution_count": 3,
   "metadata": {
    "collapsed": true
   },
   "outputs": [],
   "source": [
    "U, s, Vh = la.svd(X, full_matrices=False)"
   ]
  },
  {
   "cell_type": "code",
   "execution_count": 4,
   "metadata": {},
   "outputs": [
    {
     "data": {
      "image/png": "[encoded data removed]",
      "text/plain": [
       "<matplotlib.figure.Figure at 0x7fc9d048e4a8>"
      ]
     },
     "metadata": {},
     "output_type": "display_data"
    }
   ],
   "source": [
    "import matplotlib.pyplot as plt\n",
    "for i in range(len(words)):\n",
    "    plt.text(U[i,0], U[i,1], words[i])\n",
    "plt.xlim(-0.8, 0)\n",
    "plt.ylim(-0.8, 0.8)\n",
    "plt.show()"
   ]
  },
  {
   "cell_type": "code",
   "execution_count": 5,
   "metadata": {
    "collapsed": true
   },
   "outputs": [],
   "source": [
    "import re\n",
    "import requests\n",
    "from nltk import ngrams\n",
    "from bs4 import BeautifulSoup\n",
    "from nltk.corpus import stopwords"
   ]
  },
  {
   "cell_type": "code",
   "execution_count": 6,
   "metadata": {
    "collapsed": true
   },
   "outputs": [],
   "source": [
    "urls = ['https://de.wikipedia.org/wiki/Deutschland', 'https://de.wikipedia.org/wiki/Belgien', 'https://de.wikipedia.org/wiki/Frankreich', 'https://de.wikipedia.org/wiki/Spanien', 'https://de.wikipedia.org/wiki/Italien', 'https://de.wikipedia.org/wiki/Polen', 'https://de.wikipedia.org/wiki/Polen', 'https://de.wikipedia.org/wiki/D%C3%A4nemark']\n",
    "\n",
    "text = ''\n",
    "for url in urls:\n",
    "    html = requests.get(url).text\n",
    "    text += BeautifulSoup(html, 'lxml').body.get_text()\n",
    "\n",
    "text = text.lower()"
   ]
  },
  {
   "cell_type": "code",
   "execution_count": 7,
   "metadata": {},
   "outputs": [
    {
     "data": {
      "text/plain": [
       "1520"
      ]
     },
     "execution_count": 7,
     "metadata": {},
     "output_type": "execute_result"
    }
   ],
   "source": [
    "word_dict = {}\n",
    "a = False\n",
    "for word in text.split(' '):\n",
    "    word = word.strip().replace('.', '').replace(',', '').replace(':', '').replace(';', '').replace('-', '').replace('(', '').replace(')', '')\n",
    "    if word in word_dict.keys():\n",
    "        word_dict[word] += 1\n",
    "    else:\n",
    "        word_dict[word] = 1\n",
    "        \n",
    "stop = stopwords.words('german')\n",
    "\n",
    "num = 10\n",
    "\n",
    "words = {word for word, count in word_dict.items() if count>num and word not in stop}\n",
    "len(words)"
   ]
  },
  {
   "cell_type": "code",
   "execution_count": 9,
   "metadata": {
    "collapsed": true
   },
   "outputs": [],
   "source": [
    "position_dict = {word:i for i, word in enumerate(words)}"
   ]
  },
  {
   "cell_type": "code",
   "execution_count": 10,
   "metadata": {
    "collapsed": true
   },
   "outputs": [],
   "source": [
    "n = len(words)\n",
    "matrix = np.zeros(shape=(n, n))"
   ]
  },
  {
   "cell_type": "code",
   "execution_count": 11,
   "metadata": {
    "collapsed": true
   },
   "outputs": [],
   "source": [
    "n = 5\n",
    "for gram in ngrams(text.split(), n):\n",
    "    if gram[2] in position_dict.keys():\n",
    "        word = gram[2].strip().replace('.', '').replace(',', '').replace(':', '').replace(';', '').replace('-', '').replace('(', '').replace(')', '')\n",
    "        middle = position_dict[word]\n",
    "        for i in [0, 1, 3, 4]:\n",
    "            try:\n",
    "                word = gram[i].strip().replace('.', '').replace(',', '').replace(':', '').replace(';', '').replace('-', '').replace('(', '').replace(')', '')\n",
    "                matrix[middle][position_dict[word]] += 1\n",
    "            except:\n",
    "                pass"
   ]
  },
  {
   "cell_type": "code",
   "execution_count": 12,
   "metadata": {
    "collapsed": true
   },
   "outputs": [],
   "source": [
    "U, s, Vh = la.svd(matrix, full_matrices=False)"
   ]
  },
  {
   "cell_type": "code",
   "execution_count": 13,
   "metadata": {},
   "outputs": [
    {
     "data": {
      "text/html": [
       "\n",
       "    <div class=\"bk-root\">\n",
       "        <a href=\"http://bokeh.pydata.org\" target=\"_blank\" class=\"bk-logo bk-logo-small bk-logo-notebook\"></a>\n",
       "        <span id=\"6c263771-7af2-48c5-b053-4221b1bc9787\">Loading BokehJS ...</span>\n",
       "    </div>"
      ]
     },
     "metadata": {},
     "output_type": "display_data"
    },
    {
     "data": {
      "application/javascript": [
       "\n",
       "(function(global) {\n",
       "  function now() {\n",
       "    return new Date();\n",
       "  }\n",
       "\n",
       "  var force = true;\n",
       "\n",
       "  if (typeof (window._bokeh_onload_callbacks) === \"undefined\" || force === true) {\n",
       "    window._bokeh_onload_callbacks = [];\n",
       "    window._bokeh_is_loading = undefined;\n",
       "  }\n",
       "\n",
       "\n",
       "  \n",
       "  if (typeof (window._bokeh_timeout) === \"undefined\" || force === true) {\n",
       "    window._bokeh_timeout = Date.now() + 5000;\n",
       "    window._bokeh_failed_load = false;\n",
       "  }\n",
       "\n",
       "  var NB_LOAD_WARNING = {'data': {'text/html':\n",
       "     \"<div style='background-color: #fdd'>\\n\"+\n",
       "     \"<p>\\n\"+\n",
       "     \"BokehJS does not appear to have successfully loaded. If loading BokehJS from CDN, this \\n\"+\n",
       "     \"may be due to a slow or bad network connection. Possible fixes:\\n\"+\n",
       "     \"</p>\\n\"+\n",
       "     \"<ul>\\n\"+\n",
       "     \"<li>re-rerun `output_notebook()` to attempt to load from CDN again, or</li>\\n\"+\n",
       "     \"<li>use INLINE resources instead, as so:</li>\\n\"+\n",
       "     \"</ul>\\n\"+\n",
       "     \"<code>\\n\"+\n",
       "     \"from bokeh.resources import INLINE\\n\"+\n",
       "     \"output_notebook(resources=INLINE)\\n\"+\n",
       "     \"</code>\\n\"+\n",
       "     \"</div>\"}};\n",
       "\n",
       "  function display_loaded() {\n",
       "    if (window.Bokeh !== undefined) {\n",
       "      var el = document.getElementById(\"6c263771-7af2-48c5-b053-4221b1bc9787\");\n",
       "      el.textContent = \"BokehJS \" + Bokeh.version + \" successfully loaded.\";\n",
       "    } else if (Date.now() < window._bokeh_timeout) {\n",
       "      setTimeout(display_loaded, 100)\n",
       "    }\n",
       "  }\n",
       "\n",
       "  function run_callbacks() {\n",
       "    window._bokeh_onload_callbacks.forEach(function(callback) { callback() });\n",
       "    delete window._bokeh_onload_callbacks\n",
       "    console.info(\"Bokeh: all callbacks have finished\");\n",
       "  }\n",
       "\n",
       "  function load_libs(js_urls, callback) {\n",
       "    window._bokeh_onload_callbacks.push(callback);\n",
       "    if (window._bokeh_is_loading > 0) {\n",
       "      console.log(\"Bokeh: BokehJS is being loaded, scheduling callback at\", now());\n",
       "      return null;\n",
       "    }\n",
       "    if (js_urls == null || js_urls.length === 0) {\n",
       "      run_callbacks();\n",
       "      return null;\n",
       "    }\n",
       "    console.log(\"Bokeh: BokehJS not loaded, scheduling load and callback at\", now());\n",
       "    window._bokeh_is_loading = js_urls.length;\n",
       "    for (var i = 0; i < js_urls.length; i++) {\n",
       "      var url = js_urls[i];\n",
       "      var s = document.createElement('script');\n",
       "      s.src = url;\n",
       "      s.async = false;\n",
       "      s.onreadystatechange = s.onload = function() {\n",
       "        window._bokeh_is_loading--;\n",
       "        if (window._bokeh_is_loading === 0) {\n",
       "          console.log(\"Bokeh: all BokehJS libraries loaded\");\n",
       "          run_callbacks()\n",
       "        }\n",
       "      };\n",
       "      s.onerror = function() {\n",
       "        console.warn(\"failed to load library \" + url);\n",
       "      };\n",
       "      console.log(\"Bokeh: injecting script tag for BokehJS library: \", url);\n",
       "      document.getElementsByTagName(\"head\")[0].appendChild(s);\n",
       "    }\n",
       "  };var element = document.getElementById(\"6c263771-7af2-48c5-b053-4221b1bc9787\");\n",
       "  if (element == null) {\n",
       "    console.log(\"Bokeh: ERROR: autoload.js configured with elementid '6c263771-7af2-48c5-b053-4221b1bc9787' but no matching script tag was found. \")\n",
       "    return false;\n",
       "  }\n",
       "\n",
       "  var js_urls = [\"https://cdn.pydata.org/bokeh/release/bokeh-0.12.5.min.js\", \"https://cdn.pydata.org/bokeh/release/bokeh-widgets-0.12.5.min.js\"];\n",
       "\n",
       "  var inline_js = [\n",
       "    function(Bokeh) {\n",
       "      Bokeh.set_log_level(\"info\");\n",
       "    },\n",
       "    \n",
       "    function(Bokeh) {\n",
       "      \n",
       "    },\n",
       "    \n",
       "    function(Bokeh) {\n",
       "      \n",
       "      document.getElementById(\"6c263771-7af2-48c5-b053-4221b1bc9787\").textContent = \"BokehJS is loading...\";\n",
       "    },\n",
       "    function(Bokeh) {\n",
       "      console.log(\"Bokeh: injecting CSS: https://cdn.pydata.org/bokeh/release/bokeh-0.12.5.min.css\");\n",
       "      Bokeh.embed.inject_css(\"https://cdn.pydata.org/bokeh/release/bokeh-0.12.5.min.css\");\n",
       "      console.log(\"Bokeh: injecting CSS: https://cdn.pydata.org/bokeh/release/bokeh-widgets-0.12.5.min.css\");\n",
       "      Bokeh.embed.inject_css(\"https://cdn.pydata.org/bokeh/release/bokeh-widgets-0.12.5.min.css\");\n",
       "    }\n",
       "  ];\n",
       "\n",
       "  function run_inline_js() {\n",
       "    \n",
       "    if ((window.Bokeh !== undefined) || (force === true)) {\n",
       "      for (var i = 0; i < inline_js.length; i++) {\n",
       "        inline_js[i](window.Bokeh);\n",
       "      }if (force === true) {\n",
       "        display_loaded();\n",
       "      }} else if (Date.now() < window._bokeh_timeout) {\n",
       "      setTimeout(run_inline_js, 100);\n",
       "    } else if (!window._bokeh_failed_load) {\n",
       "      console.log(\"Bokeh: BokehJS failed to load within specified timeout.\");\n",
       "      window._bokeh_failed_load = true;\n",
       "    } else if (force !== true) {\n",
       "      var cell = $(document.getElementById(\"6c263771-7af2-48c5-b053-4221b1bc9787\")).parents('.cell').data().cell;\n",
       "      cell.output_area.append_execute_result(NB_LOAD_WARNING)\n",
       "    }\n",
       "\n",
       "  }\n",
       "\n",
       "  if (window._bokeh_is_loading === 0) {\n",
       "    console.log(\"Bokeh: BokehJS loaded, going straight to plotting\");\n",
       "    run_inline_js();\n",
       "  } else {\n",
       "    load_libs(js_urls, function() {\n",
       "      console.log(\"Bokeh: BokehJS plotting callback run at\", now());\n",
       "      run_inline_js();\n",
       "    });\n",
       "  }\n",
       "}(this));"
      ]
     },
     "metadata": {},
     "output_type": "display_data"
    }
   ],
   "source": [
    "from bokeh.io import output_notebook\n",
    "output_notebook()"
   ]
  },
  {
   "cell_type": "code",
   "execution_count": 14,
   "metadata": {},
   "outputs": [
    {
     "data": {
      "text/html": [
       "\n",
       "\n",
       "    <div class=\"bk-root\">\n",
       "        <div class=\"bk-plotdiv\" id=\"4bb4a02c-16d0-4cca-9b02-b0d41147cd1d\"></div>\n",
       "    </div>\n",
       "<script type=\"text/javascript\">\n",
       "  \n",
       "  (function(global) {\n",
       "    function now() {\n",
       "      return new Date();\n",
       "    }\n",
       "  \n",
       "    var force = false;\n",
       "  \n",
       "    if (typeof (window._bokeh_onload_callbacks) === \"undefined\" || force === true) {\n",
       "      window._bokeh_onload_callbacks = [];\n",
       "      window._bokeh_is_loading = undefined;\n",
       "    }\n",
       "  \n",
       "  \n",
       "    \n",
       "    if (typeof (window._bokeh_timeout) === \"undefined\" || force === true) {\n",
       "      window._bokeh_timeout = Date.now() + 0;\n",
       "      window._bokeh_failed_load = false;\n",
       "    }\n",
       "  \n",
       "    var NB_LOAD_WARNING = {'data': {'text/html':\n",
       "       \"<div style='background-color: #fdd'>\\n\"+\n",
       "       \"<p>\\n\"+\n",
       "       \"BokehJS does not appear to have successfully loaded. If loading BokehJS from CDN, this \\n\"+\n",
       "       \"may be due to a slow or bad network connection. Possible fixes:\\n\"+\n",
       "       \"</p>\\n\"+\n",
       "       \"<ul>\\n\"+\n",
       "       \"<li>re-rerun `output_notebook()` to attempt to load from CDN again, or</li>\\n\"+\n",
       "       \"<li>use INLINE resources instead, as so:</li>\\n\"+\n",
       "       \"</ul>\\n\"+\n",
       "       \"<code>\\n\"+\n",
       "       \"from bokeh.resources import INLINE\\n\"+\n",
       "       \"output_notebook(resources=INLINE)\\n\"+\n",
       "       \"</code>\\n\"+\n",
       "       \"</div>\"}};\n",
       "  \n",
       "    function display_loaded() {\n",
       "      if (window.Bokeh !== undefined) {\n",
       "        var el = document.getElementById(\"4bb4a02c-16d0-4cca-9b02-b0d41147cd1d\");\n",
       "        el.textContent = \"BokehJS \" + Bokeh.version + \" successfully loaded.\";\n",
       "      } else if (Date.now() < window._bokeh_timeout) {\n",
       "        setTimeout(display_loaded, 100)\n",
       "      }\n",
       "    }\n",
       "  \n",
       "    function run_callbacks() {\n",
       "      window._bokeh_onload_callbacks.forEach(function(callback) { callback() });\n",
       "      delete window._bokeh_onload_callbacks\n",
       "      console.info(\"Bokeh: all callbacks have finished\");\n",
       "    }\n",
       "  \n",
       "    function load_libs(js_urls, callback) {\n",
       "      window._bokeh_onload_callbacks.push(callback);\n",
       "      if (window._bokeh_is_loading > 0) {\n",
       "        console.log(\"Bokeh: BokehJS is being loaded, scheduling callback at\", now());\n",
       "        return null;\n",
       "      }\n",
       "      if (js_urls == null || js_urls.length === 0) {\n",
       "        run_callbacks();\n",
       "        return null;\n",
       "      }\n",
       "      console.log(\"Bokeh: BokehJS not loaded, scheduling load and callback at\", now());\n",
       "      window._bokeh_is_loading = js_urls.length;\n",
       "      for (var i = 0; i < js_urls.length; i++) {\n",
       "        var url = js_urls[i];\n",
       "        var s = document.createElement('script');\n",
       "        s.src = url;\n",
       "        s.async = false;\n",
       "        s.onreadystatechange = s.onload = function() {\n",
       "          window._bokeh_is_loading--;\n",
       "          if (window._bokeh_is_loading === 0) {\n",
       "            console.log(\"Bokeh: all BokehJS libraries loaded\");\n",
       "            run_callbacks()\n",
       "          }\n",
       "        };\n",
       "        s.onerror = function() {\n",
       "          console.warn(\"failed to load library \" + url);\n",
       "        };\n",
       "        console.log(\"Bokeh: injecting script tag for BokehJS library: \", url);\n",
       "        document.getElementsByTagName(\"head\")[0].appendChild(s);\n",
       "      }\n",
       "    };var element = document.getElementById(\"4bb4a02c-16d0-4cca-9b02-b0d41147cd1d\");\n",
       "    if (element == null) {\n",
       "      console.log(\"Bokeh: ERROR: autoload.js configured with elementid '4bb4a02c-16d0-4cca-9b02-b0d41147cd1d' but no matching script tag was found. \")\n",
       "      return false;\n",
       "    }\n",
       "  \n",
       "    var js_urls = [];\n",
       "  \n",
       "    var inline_js = [\n",
       "      function(Bokeh) {\n",
       "        (function() {\n",
       "          var fn = function() {\n",
       "            var docs_json = {\"444236c4-bf99-46d0-b83d-3610743726f8\":{\"roots\":{\"references\":[{\"attributes\":{},\"id\":\"2840b044-9edd-4160-8391-d2c266e7016b\",\"type\":\"BasicTickFormatter\"},{\"attributes\":{\"axis_label\":\"x axis\",\"formatter\":{\"id\":\"2840b044-9edd-4160-8391-d2c266e7016b\",\"type\":\"BasicTickFormatter\"},\"plot\":{\"id\":\"2f47ec6e-c818-47fa-b854-38669d09e2d0\",\"subtype\":\"Figure\",\"type\":\"Plot\"},\"ticker\":{\"id\":\"ac3e1922-bd04-45ce-80a4-fa1e8025cd5a\",\"type\":\"BasicTicker\"}},\"id\":\"fa308b96-2de6-457e-a0bd-dd710eecb114\",\"type\":\"LinearAxis\"},{\"attributes\":{},\"id\":\"ac3e1922-bd04-45ce-80a4-fa1e8025cd5a\",\"type\":\"BasicTicker\"},{\"attributes\":{\"plot\":{\"id\":\"2f47ec6e-c818-47fa-b854-38669d09e2d0\",\"subtype\":\"Figure\",\"type\":\"Plot\"},\"ticker\":{\"id\":\"ac3e1922-bd04-45ce-80a4-fa1e8025cd5a\",\"type\":\"BasicTicker\"}},\"id\":\"3b92c386-3134-4f34-b7c1-25770002b70b\",\"type\":\"Grid\"},{\"attributes\":{\"axis_label\":\"y axis\",\"formatter\":{\"id\":\"076f7f43-b0f1-462c-8635-e31187825180\",\"type\":\"BasicTickFormatter\"},\"plot\":{\"id\":\"2f47ec6e-c818-47fa-b854-38669d09e2d0\",\"subtype\":\"Figure\",\"type\":\"Plot\"},\"ticker\":{\"id\":\"398c7f8a-e15a-45d7-9f29-d609ac52aa24\",\"type\":\"BasicTicker\"}},\"id\":\"b853e50c-ec2a-4c81-ae5d-f8e266c070bf\",\"type\":\"LinearAxis\"},{\"attributes\":{},\"id\":\"398c7f8a-e15a-45d7-9f29-d609ac52aa24\",\"type\":\"BasicTicker\"},{\"attributes\":{\"dimension\":1,\"plot\":{\"id\":\"2f47ec6e-c818-47fa-b854-38669d09e2d0\",\"subtype\":\"Figure\",\"type\":\"Plot\"},\"ticker\":{\"id\":\"398c7f8a-e15a-45d7-9f29-d609ac52aa24\",\"type\":\"BasicTicker\"}},\"id\":\"9565506c-5174-4b3e-9244-9e4d42073c5e\",\"type\":\"Grid\"},{\"attributes\":{\"text_alpha\":{\"value\":0.1},\"text_color\":{\"value\":\"black\"},\"x\":{\"field\":\"x\"},\"y\":{\"field\":\"y\"}},\"id\":\"57fccb4b-b7f6-449e-95b7-d2fbc5c1da8a\",\"type\":\"Text\"},{\"attributes\":{},\"id\":\"076f7f43-b0f1-462c-8635-e31187825180\",\"type\":\"BasicTickFormatter\"},{\"attributes\":{\"text_color\":{\"value\":\"black\"},\"x\":{\"field\":\"x\"},\"y\":{\"field\":\"y\"}},\"id\":\"3fa0cc32-d53c-491a-9e71-4c792b363c72\",\"type\":\"Text\"},{\"attributes\":{\"callback\":null,\"column_names\":[\"x\",\"y\",\"text\"],\"data\":{\"text\":[\"\",\"senat\",\"f\\u00e4llt\",\"daten\",\"vergleich\",\"ausgebaut\",\"leben\",\"versailles\",\"d\\u00e4nemark\",\"bezeichnet\",\"besetzt\",\"verbreitet\",\"ii\",\"nationen\",\"amtssprache\",\"prozent\",\"insel\",\"piasten\",\"barocke\",\"szymon\",\"polska\",\"jeweils\",\"polizei\",\"report\",\"gew\\u00e4hlt\",\"weniger\",\"krakauer\",\"umfasste\",\"k\\u00f6nige\",\"lebten\",\"handelspartner\",\"neapel\",\"palast\",\"florenz\",\"olympischen\",\"hohen\",\"kriege\",\"arbeitslosigkeit\",\"verbunden\",\"politische\",\"1871\",\"zusammen\",\"wawelkathedrale\",\"informationen\",\"geschaffen\",\"zweiter\",\"erfolgreich\",\"st\\u00e4dten\",\"nutzung\",\"spanier\",\"zuletzt\",\"macht\",\"sevilla\",\"museum\",\"danzig\",\"in\\u00a0%\",\"m\\u00e4nner\",\"medien\",\"population\",\"personalunion\",\"ehemaligen\",\"regierung\",\"pressefreiheit\",\"sitz\",\"teile\",\"hoch\",\"23\",\"aufgrund\",\"m\\u00e4rz\",\"sebastian\",\"spanisch\",\"haus\",\"kathedrale\",\"hei\\u00dft\",\"3\",\"bischofspalast\",\"wind\",\"29\",\"pal\\u00e4ste\",\"autonomie\",\"heutige\",\"geht\",\"gemeinden\",\"zerst\\u00f6rt\",\"antike\",\"gr\\u00f6\\u00dferen\",\"einzelnen\",\"staatspr\\u00e4sident\",\"fl\\u00e4mische\",\"zentralpolen\",\"vilnius\",\"stelle\",\"einwanderer\",\"sowjetische\",\"entstand\",\"ganze\",\"dominikaner\",\"gruppen\",\"slowakei\",\"geplant\",\"geblieben\",\"regionalen\",\"niederlage\",\"enth\\u00e4lt\",\"k\\u00f6nigsschloss\",\"gefunden\",\"hochrenaissance\",\"kolonien\",\"staatliche\",\"pro\",\"museen\",\"j\\u00fcdischen\",\"josephskirche\",\"d\\u00e4nen\",\"jungen\",\"herrscht\",\"besitzt\",\"archive\\n\\n\\u2191\",\"f\\u00fchrte\",\"volksrepublik\\u00a0volksrepublik\",\"denen\",\"wohl\",\"100\",\"rom\",\"gr\\u00f6\\u00dfte\",\"kunstwerke\",\"bip\",\"polnischen\",\"nr\",\"1000\",\"latein\",\"d\\u00e4nischen\",\"world\",\"linie\",\"eigenen\",\"paul\",\"fl\\u00e4che\",\"1\",\"polski\",\"spaniens\",\"gemeinsame\",\"1949\",\"zusammenarbeit\",\"6\",\"w\",\"s\\u00fcd\",\"bildung\",\"zentrum\",\"begriff\",\"parteien\",\"anfang\",\"k\\u00fcnstler\",\"m\\u00fcnchen\",\"fr\\u00fcher\",\"amt\",\"allerdings\",\"spanischen\",\"name\",\"heiligkreuzgebirge\",\"nationalpark\",\"drittgr\\u00f6\\u00dfte\",\"bundesrepublik\",\"malerei\",\"1791\",\"zehn\",\"traditionelle\",\"staates\",\"venedig\",\"pr\\u00fcfe\",\"3406374913\",\"verloren\",\"kirche\",\"k\\u00fcste\",\"gnesen\",\"schwerpunkt\",\"beziehungsweise\",\"d\\u00e4nisch\\n\\n\\u2191\",\"unterschieden\",\"energy\",\"nennen\",\"stellen\",\"sakralen\",\"nationalversammlung\",\"besatzung\",\"romanik\",\"sommer\",\"trat\",\"tower\",\"bestehen\",\"dt\",\"thorn\",\"zeitweise\",\"genannt\",\"bildet\",\"italiens\",\"entwicklung\",\"charles\",\"kraft\",\"ehemals\",\"s\\u00e4chsischen\",\"1994\",\"erfolgte\",\"2006\",\"christi\",\"pelplin\",\"nationaler\",\"sozialen\",\"di\",\"1980er\",\"1992\",\"galt\",\"r\\u00f6mische\",\"ruchniewicz\",\"\\u00e4ltere\",\"1958\",\"gem\\u00e4lde\",\"adolf\",\"werke\",\"art\",\"lech\",\"weiterhin\",\"letzten\",\"bildhauer\",\"27\",\"parlament\",\"gemeinschaften\",\"1996\",\"hervor\",\"geh\\u00f6ren\",\"sa\",\"schuf\",\"statt\",\"nahm\",\"renaissancestil\",\"holte\",\"wiedervereinigung\",\"r\\u00f6mischen\",\"kulturelle\",\"aktiv\",\"premierminister\",\"architekt\",\"26\",\"meer\",\"luxemburg\",\"katholische\",\"bedeutende\",\"ostpolen\",\"giovanni\",\"sport\",\"warsaw\",\"stets\",\"sobieski\",\"isbn\",\"unabh\\u00e4ngig\",\"ladislaus\",\"wac\\u0142aw\",\"jakobskirche\",\"la\",\"/\",\"besetzten\",\"registriert\",\"christlichen\",\"ebene\",\"31\",\"status\",\"videos\",\"wurden\",\"revolution\",\"quellen\",\"danmarks\",\"menschlichen\",\"haupts\\u00e4chlich\",\"kolberg\",\"4\",\"hohe\",\"ende\",\"22\",\"adelsrepublik\",\"friedhof\",\"dom\",\"k\\u00f6nigin\",\"neu\",\"wobei\",\"franzosen\",\"zuvor\",\"hinzu\",\"2012\\n\\n\\u2191\",\"millionen\",\"vgl\",\"2018\\n\\n\\u2191\",\"18\",\"5\",\"somit\",\"jahr\",\"italienischer\",\"geh\\u00f6rten\",\"litauen\",\"z\\u00e4hlt\",\"erfreut\",\"nordsee\",\"staaten\",\"b\\u00f6hmen\",\"beide\",\"zensus\",\"wirtschaftliche\",\"eigene\",\"gelang\",\"antoni\",\"l\\u00e4sst\",\"vasa\",\"europas\",\"einwohner\",\"mehreren\",\"au\\u00dferdem\",\"70\",\"armee\",\"global\",\"agency\",\"regierungszeit\",\"\\u2013\",\"tagen\",\"daher\",\"\\u20ac\\n\\n%\",\"wissenschaft\",\"besetzung\",\"gdynia\",\"vilniuser\",\"nie\",\"factbook\",\"grenze\",\"einnahmen\",\"schlie\\u00dflich\",\"nordosten\",\"blocke\",\"komponisten\",\"energien\",\"lange\",\"griechischkatholische\",\"kopenhagen\",\"11\",\"wirtschaftlichen\",\"hinaus\",\"stieg\",\"1997\",\"wenige\",\"ukraine\",\"seite\",\"vertreten\",\"alpen\",\"michael\",\"pr\\u00e4sident\",\"dominikanerkirche\",\"arbeitslosenquote\",\"vertrag\",\"24\",\"paris\",\"beiden\",\"beim\",\"volkswirtschaft\",\"rokoko\",\"valencia\",\"folgten\",\"gebaut\",\"2016\",\"aufgebaut\",\"gemeinschaft\",\"ging\",\"rolle\",\"gro\\u00dfen\",\"seen\",\"anteil\",\"gro\\u00df\",\"hauptstadt\",\"system\",\"winter\",\"kleinpolen\",\"baltischen\",\"thorner\",\"legionen\",\"1968\",\"gegenreformation\",\"beteiligt\",\"befindet\",\"[abgerufen\",\"schl\\u00f6ssern\",\"altar\",\"b\\u00fcrgerlichen\",\"barcelona\",\"private\",\"orden\",\"\\u00f6ffentliche\",\"pr\\u00e4sidenten\",\"einzige\",\"frei\",\"defizit\",\"san\",\"beginnt\",\"provinz\",\"zweiten\",\"entstanden\",\"womit\",\"restlichen\",\"gebieten\",\"zuge\",\"2005\",\"sohn\",\"antoniuskirche\",\"ab\",\"weltkrieges\",\"siehe\",\"organisation\",\"flughafen\",\"usa\",\"mrd\",\"zygmunt\",\"hotel\",\"kasimir\",\"erneuerbare\",\"regionale\",\"gewalt\",\"reformation\",\"mal\",\"ministerpr\\u00e4sident\",\"historische\",\"brachten\",\"krone\",\"paolo\",\"bereits\",\"international\",\"kazimierz\",\"nikolauskirche\",\"maler\",\"et\",\"einwohnern\",\"berlin\",\"beispielsweise\",\"bundeszentrale\",\"marienbasilika\",\"gro\\u00dfbritannien\",\"polnische\",\"mieszko\",\"h\\u00f6chsten\",\"dynastie\",\"provinzen\",\"gesch\\u00e4tzt\",\"krieg\",\"mitglieder\",\"piotr\",\"spanien\",\"angenommen\",\"iv\",\"frz\",\"krakau\",\"wichtigsten\",\"bonn\",\"gegr\\u00fcndeten\",\"500\",\"erstmals\",\"lemberger\",\"en\",\"j\",\"fr\\u00fchen\",\"flugh\\u00e4fen\",\"erst\",\"vertreter\",\"andreas\",\"d\\u00e4nische\",\"tschechien\",\"m\\u00f6glich\",\"gebiete\",\"gymnasium\",\"europ\\u00e4ische\",\"kongresspolen\",\"bildeten\",\"stellte\",\"architektur\",\"woiwodschaften\",\"werk\",\"posener\",\"theater\",\"senatoren\",\"basilika\",\"lage\",\"dagegen\",\"lie\\u00df\",\"richtung\",\"sigismund\",\"wirtschaft\",\"sieben\",\"architekten\",\"2015\\n\\n\\u2191\",\"umgebaut\",\"wahl\",\"eu\",\"palais\",\"rzeczpospolita\",\"peter\",\"2016\\n\\n\\u2191\",\"abkommen\",\"internationalen\",\"jacek\",\"\\u00e4hnlich\",\"belgiens\",\"schweiz\",\"gro\\u00dfe\",\"politik\",\"ca\",\"sogenannte\",\"julian\",\"sprache\",\"jahrzehnten\",\"10\",\"21\",\"gesellschaft\",\"lag\",\"formal\",\"wawel\",\"monarchie\",\"raum\",\"begann\",\"schriftsteller\",\"fu\\u00dfball\",\"polnischlitauischen\",\"witold\",\"1919\",\"bund\",\"denkmal\",\"neben\",\"zwischenkriegszeit\",\"bereich\",\"abitur\",\"1830\",\"niederlanden\",\"filme\",\"2017\\u00a0\\n\\n\\u2191\",\"erste\",\"meisten\",\"deutscher\",\"el\",\"urspr\\u00fcnglich\",\"insgesamt\",\"deren\",\"dialekte\",\"neuer\",\"2010\\n\\n\\u2191\",\"geschichte\",\"mehrheit\",\"adel\",\"mindestens\",\"bedeutung\",\"universit\\u00e4t\",\"verl\\u00e4uft\",\"1990er\",\"nehmen\",\"erreichen\",\"august\",\"staatsverschuldung\",\"worden\",\"beschlossen\",\"historismus\",\"vollst\\u00e4ndig\",\"bauwerke\",\"1973\",\"europ\\u00e4ischen\",\"dazu\\n\\n\\u2191\",\"gotik\",\"jedoch\",\"f\\u00fcnf\",\"ersetzt\",\"franz\\u00f6sischen\",\"inhalte\",\"f\\u00fchrten\",\"lebenserwartung\",\"stettiner\",\"burg\",\"j\\u00f3zef\",\"sch\\u00fclern\",\"stil\",\"br\\u00fcder\",\"masowien\",\"volk\",\"w\\u00e4hrungsunion\",\"englisch\",\"anerkannt\",\"afrika\",\"hochschulen\",\"ostsee\",\"14\",\"h\\u00e4ufig\",\"arbeiten\",\"zun\\u00e4chst\",\"nations\",\"f\\u00fcnften\",\"regionen\",\"tradition\",\"gesprochen\",\"betrug\",\"kunst\",\"eurozone\",\"sprachgebiet\",\"film\",\"gipfel\",\"bitte\",\"kindern\",\"s\\u00f6hne\",\"c\",\"main\",\"sank\",\"sollen\",\"1\\u00a0januar\",\"koalition\",\"gebirge\",\"beispiel\",\"online\",\"deutschen\",\"iii\",\"*\",\"boleslaus\",\"r\\u00f6mer\",\"geb\\u00e4ude\",\"fresken\",\"million\",\"v\",\"breslauer\",\"jahre\",\"republik\",\"mitteleuropa\",\"immer\",\"schl\\u00f6sser\",\"1944\",\"musik\",\"1940\",\"nahezu\",\"gut\",\"erreichte\",\"zahlreiche\",\"februar\",\"zweitgr\\u00f6\\u00dfte\",\"lublin\",\"welt\",\"stadt\",\"kattowitzer\",\"muslime\",\"polenlitauen\",\"scuola\",\"santi\",\"2001\",\"dass\",\"gemeinde\",\"deutschland\",\"autobahnen\",\"gem\\u00e4\\u00df\",\"herzog\",\"2002\",\"urz\\u0105d\",\"sienkiewicz\",\"sizilien\",\"heilige\",\"tag\",\"g\\u00fcnther\",\"krakautschenstochauer\",\"ludwik\",\"bildete\",\"fran\\u00e7ois\",\"madrid\",\"geboren\",\"fast\",\"portr\\u00e4tmaler\",\"platz\",\"kirche\\n\\n\\u2192\",\"mittel\",\"ganz\",\"dominiert\",\"bekannte\",\"zudem\",\"gesehen\",\"euro\",\"minderheit\",\"markiert\",\"i\",\"goldene\",\"nord\",\"sechs\",\"2013\\n\\n\\u2191\",\"aleksander\",\"anschlie\\u00dfend\",\"friedhelm\",\"gemacht\",\"weist\",\"tourismus\",\"35\",\"rang\",\"beispiele\",\"schloss\",\"collegium\",\"besteht\",\"gegr\\u00fcndet\",\"wiener\",\"dezember\",\"gibt\",\"g\\u0142\\u00f3wny\",\"wiesbaden\",\"teil\",\"bekannten\",\"christoph\",\"johannes\",\"=\",\"umfasst\",\"1920\",\"ermordet\",\"milliarden\",\"podhale\",\"preu\\u00dfischen\",\"europa\",\"bedeutendsten\",\"barock\",\"potockipalast\",\"stefan\",\"ndl\",\"bau\",\"mieczys\\u0142aw\",\"kloster\",\"bzw\",\"geh\\u00f6rt\",\"pdf\",\"betr\\u00e4gt\",\"protestantische\",\"stettin\",\"herzogtum\",\"roma\",\"france\",\"nationalen\",\"grundgesetz\",\"stark\",\"langen\",\"steuern\",\"gotische\",\"archive\",\"sogenannten\",\"warschau\",\"wojciech\",\"staatsgebiet\",\"politischen\",\"gr\\u00f6\\u00dfere\",\"danziger\",\"daneben\",\"gepr\\u00e4gt\",\"damals\",\"bilder\",\"viertel\",\"m\\u00fcssen\",\"insee\",\"15\",\"nachdem\",\"becken\",\"relativ\",\"waldkarpaten\",\"landesfl\\u00e4che\",\"kurze\",\"verschiedene\",\"wei\\u00dfrussland\",\"galizien\",\"finden\",\"polnischer\",\"battista\",\"jerzy\",\"russland\",\"johanneskirche\",\"ausl\\u00e4ndischen\",\"bestimmt\",\"italienische\",\"k\\u00fcche\",\"klima\",\"gebiet\",\"johann\",\"betrieben\",\"bezeichnung\",\"voran\",\"epoche\",\"gr\\u00f6\\u00dften\",\"personen\",\"2014\\n\\n\\u2191\",\"roman\",\"ddr\",\"erhaltenen\",\"schule\",\"franz\\u00f6sische\",\"grabmal\",\"entferne\",\"beginn\",\"sowie\",\"verf\\u00fcgen\",\"parlamentarische\",\"zunehmend\",\"gustaw\",\"gegensatz\",\"laut\",\"einheit\",\"entsprechend\",\"zeit\",\"politisch\",\"westeuropa\",\"belgische\",\"boles\\u0142aw\",\"kielce\",\"au\\u00dfenminister\",\"teilung\",\"erlangte\",\"lemberg\",\"eingef\\u00fchrt\",\"memento\",\"englisch\\u00a0\\n\\n\\u2191\",\"deutschlands\",\"regentschaft\",\"leterme\",\"nationale\",\"bev\\u00f6lkerung\",\"sigismundkapelle\",\"seit\",\"breslau\",\"2010\",\"mitglied\",\"staatsgebietes\",\"abgeordneten\",\"100000\",\"w\\u0142adys\\u0142aw\",\"oecd\",\"weit\",\"flandern\",\"zahlen\",\"fontana\",\"blieb\",\"wichtige\",\"unternehmen\",\"insbesondere\",\"bildungssystem\",\"davon\",\"dadurch\",\"the\",\"sp\\u00e4ter\",\"integration\",\"synagoge\",\"2013\",\"2012\",\"l\\u00e4ndern\",\"verh\\u00e4ltnis\",\"zeitung\",\"geb\\u00e4uden\",\"j\\u00fctland\",\"april\",\"madonna\",\"sicherheit\",\"ausschlie\\u00dflich\",\"de\",\"development\",\"h\\u00f6he\",\"recht\",\"entlang\",\"land\",\"sogar\",\"tor\",\"germany\",\"bestand\",\"mehrere\",\"machte\",\"ebenfalls\",\"500000\",\"offiziell\",\"gro\\u00dfteil\",\"bilden\",\"blieben\",\"innenausstattung\",\"iberischen\",\"j\\u00e4hrlich\",\"grenzt\",\"inseln\",\"b\",\"gliederung\",\"mathematik\",\"info\",\"sp\\u00e4teren\",\"\\u00fcberwiegend\",\"gr\\u00fcndung\",\"karol\",\"starben\",\"3534091604\",\"ost\",\"fest\",\"knapp\",\"marienkathedrale\",\"starke\",\"st\\u00e4dte\",\"italienisch\",\"alter\",\"s\\u00fcdosten\",\"erreicht\",\"ludwig\",\"aufstand\",\"deutsch\",\"drittel\",\"sieht\",\"zwei\",\"internet\",\"ungef\\u00e4hr\",\"jesuitenkirche\",\"sowjetischen\",\"streitkr\\u00e4fte\",\"j\\u00fcngeren\",\"1995\",\"sandomierz\",\"2\",\"of\",\"sp\\u00e4ten\",\"bundeskanzler\",\"niederl\\u00e4ndisch\",\"sande\",\"gotischen\",\"liegt\",\"deutschsprachigen\",\"hundert\",\"fand\",\"bearbeiten]\",\"gr\\u00f6nland\",\"2003\",\"andrea\",\"christian\",\"dieter\",\"statystyczny\",\"m\\u00f6glicherweise\",\"\\u00e4lteste\",\"media\",\"brachte\",\"artur\",\"bedingungen\",\"selben\",\"kilometer\",\"grabm\\u00e4ler\",\"kaiserreich\",\"zuwanderung\",\"automatisch\",\"union\",\"mai\",\"rechts\",\"heutigen\",\"wegen\",\"br\\u00fcssel\",\"frankfurt\",\"feiertage\",\"sopot\",\"lubliner\",\"heiligen\",\"marine\",\"s\",\"stammen\",\"ignacy\",\"statistisches\",\"kabinett\",\"biskupin\",\"teilungen\",\"minderheiten\",\"weiteren\",\"gericht\",\"index\",\"bekanntesten\",\"zakopane\",\"setzte\",\"abraham\",\"\\u0142\\u00f3d\\u017a\",\"7\",\"mailand\",\"maria\",\"d\",\"and\",\"ort\",\"vj\\n\\nmrd\",\"viele\",\"spanisch\\u00a0\\n\\n\\u2191\",\"heer\",\"abschluss\",\"kleine\",\"9\",\"h\\u00e4lfte\",\"2015\",\"frauen\",\"robert\",\"erhielt\",\"eingesetzt\",\"akademie\",\"\\u00f6ffentlichen\",\"rund\",\"statistik\",\"anna\",\"marcin\",\"moderne\",\"ausbau\",\"alte\",\"jahres\",\"ersten\",\"besten\",\"1939\",\"radio\",\"belgien\",\"annakirche\",\"polen\\u00a0\\u2013\",\"jahrhundert\",\"k\\u00f6nigs\",\"partei\",\"neuen\",\"vereinten\",\"abgerufen\",\"volksrepublik\",\"turin\",\"fl\\u00fcsse\",\"oktober\",\"originals\",\"16\",\"1991\",\"stephan\",\"weitere\",\"kommt\",\"entspricht\",\"f\\u00fchrenden\",\"gg\",\"19\",\"herkunft\",\"italienischen\",\"hauptartikel\",\"form\",\"mio\",\"nimmt\",\"oper\",\"van\",\"1960\",\"anton\",\"kultur\",\"1993\",\"polens\",\"fiorentino\",\"renaissance\",\"verantwortlich\",\"dollar\",\"wurde\",\"schlesischen\",\"\\u0142azienkipark\",\"francesco\",\"gro\\u00dfpolen\",\"kaum\",\"bisher\",\"dritte\",\"september\",\"touristen\",\"tatra\",\"1990\",\"vereinigte\",\"2017\",\"posen\",\"halbinsel\",\"gro\\u00dfer\",\"del\",\"gilt\",\"findet\",\"gebracht\",\"ausland\",\"erhebung\",\"unterschiedlich\",\"z\\u00e4hlen\",\"kleinere\",\"alexander\",\"quelltext\",\"schlesien\",\"daf\\u00fcr\",\"gefolgt\",\"weichsel\",\"betreibt\",\"burgen\",\"beliebtheit\",\"bedeutendste\",\"2007\",\"1982\",\"drei\",\"rathaus\",\"nato\",\"gesamtbev\\u00f6lkerung\",\"stellt\",\"kam\",\"arbeitete\",\"politisches\",\"verbindung\",\"zweite\",\"unterliegen\",\"1974\",\"jahrhunderts\",\"1950\",\"polnisch\",\"25\",\"henryk\",\"allerheiligenkirche\",\"schritt\",\"w\\u00e4hrung\",\"staatsb\\u00fcrger\",\"portr\\u00e4ts\",\"see\",\"gucci\",\"heute\",\"oft\",\"dritten\",\"anzahl\",\"9783593389912\",\"d\\u00e4nemarks\",\"teilen\",\"zus\\u00e4tzliche\",\"jakub\",\"regel\",\"literatur\",\"zeitalter\",\"direkt\",\"2009\",\"soziale\",\"archivlink\",\"minderheitensprachen\",\"weitgehend\",\"vorjahr\",\"vorbild\",\"quelle\",\"belegt\",\"befinden\",\"50\",\"frankreichs\",\"errichteten\",\"juni\",\"quartal\",\"bereichen\",\"deutsche\",\"energie\",\"erster\",\"stand\",\"dreifaltigkeitskirche\",\"hof\",\"miko\\u0142aj\",\"for\",\"niederlande\",\"schlacht\",\"central\",\"je\",\"starken\",\"jahren\",\"konnte\",\"landwirtschaft\",\"wirtschafts\",\"schulen\",\"mittelmeer\",\"abgeordnete\",\"tadeusz\",\"erzkathedrale\",\"gesamten\",\"eingerichtet\",\"menschen\",\"kleinen\",\"tageszeitungen\",\"baute\",\"u\\u00a0a\",\"soldaten\",\"&\",\"bekannt\",\"z\\u00a0b\",\"besucht\",\"teilweise\",\"wuchs\",\"au\\u00dfenpolitik\",\"konkurrenz\",\"gepr\\u00fcft\",\"erhaltene\",\"bedeckt\",\"1989\",\"verlor\",\"hans\",\"2000\",\"d\\u00e9partements\",\"china\",\"gegen\\u00fcber\",\"s\\u00fcden\",\"sitze\",\"ungarn\",\"dabei\",\"2014\",\"woiwodschaft\",\"hingegen\",\"ebenso\",\"z\",\"grenzen\",\"gelten\",\"kopf\",\"pdf\\n\\n\\u2191\",\"villa\",\"30\",\"steht\",\"generation\",\"auflage\",\"deutschsprachige\",\"verwendet\",\"dienen\",\"h\\u00f6hepunkt\",\"t\\u00fcmmers\",\"stehen\",\"daniel\",\"katholischen\",\"orthodoxe\",\"l\\u00e4nder\",\"website\",\"norden\",\"au\\u00dferhalb\",\"darunter\",\"intelligence\",\"italiener\",\"industrie\",\"usd\",\"genutzt\",\"herrscher\",\"pommern\",\"st\\u00e4mme\",\"bearbeiten]\\n\\u2192\",\"gemessen\",\"beskiden\",\"\\u00e9cole\",\"le\",\"unabh\\u00e4ngigkeit\",\"alten\",\"|\",\"konnten\",\"t\\u00e4tig\",\"sender\",\"gehen\",\"19\\u00a0jahrhundert\",\"osten\",\"2011\\n\\n\\u2191\",\"literaten\",\"gr\\u00f6\\u00dfter\",\"kathedralen\",\"november\",\"sprachen\",\"belgischen\",\"truppen\",\"neorenaissance\",\"liste\",\"romantik\",\"zahlreichen\",\"2004\",\"bedeutenden\",\"kalisz\",\"bernhardinerkirche\",\"folgte\",\"nationalparks\",\"vier\",\"s\\u00fcdlichen\",\"franz\\u00f6sisch\",\"karl\",\"hauptaltar\",\"haensch\",\"united\",\"verteilt\",\"letzte\",\"heiligkreuzkirche\",\"georg\",\"ver\\u00e4nderung\",\"spielen\",\"28\",\"errichtet\",\"dominierten\",\"franz\\u00f6sischer\",\"wettbewerbsf\\u00e4higkeit\",\"verf\\u00fcgt\",\"folge\",\"ausnahme\",\"meist\",\"bruttoinlandsprodukt\",\"westen\",\"friedrich\",\"pawe\\u0142\",\"\\u00e4ltesten\",\"geschlossenen\",\"adam\",\"per\",\"sejm\",\"wincenty\",\"zur\\u00fcck\",\"reiches\",\"gesetze\",\"teils\",\"sp\\u00e4tgotik\",\"e\",\"stanis\\u0142aw\",\"polen\",\"tsd\",\"manierismus\",\"liegen\",\"staatsoberhaupt\",\"epitaph\",\"eher\",\"link\",\"statuen\",\"mehr\",\"gleichzeitig\",\"ausl\\u00e4ndische\",\"17\",\"vasakapelle\",\"region\",\"reformen\",\"unmittelbar\",\"sowohl\",\"leon\",\"landeskunde\",\"januar\",\"polnisches\",\"vielen\",\"regional\",\"trotz\",\"darmstadt\",\"8\",\"sch\\u00fcler\",\"chr\",\"20\",\"bielitzer\",\"andrzej\",\"1918\",\"folgende\",\"lubomirskipalast\",\"bedeutend\",\"ausgaben\",\"deutlich\",\"traten\",\"bezeichnete\",\"verfassung\",\"180\",\"entwickelten\",\"h\\u00f6chste\",\"ziel\",\"staatlichen\",\"antonio\",\"kernkraftwerke\",\"tausend\",\"landes\",\"positivismus\",\"etwa\",\"durchschnitt\",\"preu\\u00dfen\",\"warschauer\",\"reich\",\"geographische\",\"links\",\"karpaten\",\"sodass\",\"einfluss\",\"marienkirche\",\"geh\\u00f6rte\",\"p\\u0142ock\",\"gruppe\",\"l\\u00e4nderbericht\",\"wachstum\",\"innerhalb\",\"autonomen\",\"bundesamt\",\"2008\",\"bergen\",\"zofia\",\"erhalten\",\"economic\",\"franciszek\",\"frankreich\",\"warszawa\",\"12\",\"spielt\",\"hrsg\",\"glauben\",\"staat\",\"au\\u00dfen\",\"1998\",\"herrschaft\",\"j\\u00fcdische\",\"schweden\",\"setzt\",\"bruttoinlandsprodukts\",\"anleitung\",\"gr\\u00fcndungsmitglied\",\"weltkriegs\",\"gr\\u00f6\\u00dftenteils\",\"neun\",\"wiederaufbau\",\"200\",\"wichtigste\",\"backsteingotik\",\"hierbei\",\"derzeit\",\"figuren\",\"sp\\u00e4tbarock\",\"tage\",\"grundlage\",\"gesetz\",\"kamen\",\"artikel\",\"bauten\",\"weltweit\",\"\\u00f6stlichen\",\"italien\",\"gewann\",\"organisationen\",\"verschiedenen\",\"zugleich\",\"vereinigten\",\"zahl\",\"k\\u00f6nigreich\",\"martinskirche\",\"k\\u00f6nig\",\"pelzer\",\"napoleon\",\"2018\",\"exemplare\",\"sozial\",\"1999\",\"b\\u00fcrger\",\"osteuropa\",\"beliebt\",\"juden\",\"bekannteste\",\"tod\",\"zentren\",\"giuseppe\",\"schon\",\"west\",\"aufkl\\u00e4rung\",\"einf\\u00fchrung\",\"kommen\",\"russische\",\"entwickelte\",\"dar\\u00fcber\",\"competitiveness\",\"politischer\",\"rzesz\\u00f3wer\",\"verkehr\",\"reihe\",\"a\",\"dar\",\"kinder\",\"gab\",\"kirchen\",\"katalonien\",\"konigreich\\u00a0vereinigtes\",\"wilhelm\",\"schrieb\",\"eurostat\",\"mitte\",\"2017\\n\\n\\u2191\",\"klassizismus\",\"kaiser\",\"fr\\u00fchbarock\",\"mittelalter\",\"institut\",\"2011\",\"danach\",\"christliche\",\"russischen\",\"jan\",\"netz\",\"besonders\",\"40\",\"nordpolen\",\"s\\u00fcdwesten\",\"romanischen\",\"spanische\",\"polanen\",\"universit\\u00e4ten\",\"umgebung\",\"jura\",\"wiederum\",\"otto\",\"punkt\",\"bringen\",\"\\u00fcbergang\",\"folgenden\",\"weltkrieg\",\"f\\u00fchrung\",\"ministerpr\\u00e4sidenten\",\"\\u00f6stlich\",\"krzysztof\",\"1945\",\"\\u00f6sterreich\",\"sowjetunion\",\"juli\",\"st\",\"13\",\"istat\",\"nowy\",\"botschaft\",\"fremdsprache\",\"namen\",\"k\\u00f6nigshof\",\"stanislaus\",\"freien\",\"wert\",\"schufen\",\"sudeten\",\"rahmen\",\"spiegel\",\"masuren\",\"neue\",\"belegte\",\"sozrealismus\",\"westlichen\",\"internationale\",\"errichtete\",\"endete\",\"beziehungen\",\"organisiert\",\"text\",\"stimmen\",\"dominierte\",\"\\u0142\\u00f3d\\u017aer\",\"frau\",\"heinrich\",\"religion\",\"s\\u00fcdpolen\"],\"x\":{\"__ndarray__\":\"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\",\"dtype\":\"float64\",\"shape\":[1520]},\"y\":{\"__ndarray__\":\"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\",\"dtype\":\"float64\",\"shape\":[1520]}}},\"id\":\"6aeff57b-5cd9-4da8-b5cb-ad93e94a3089\",\"type\":\"ColumnDataSource\"},{\"attributes\":{\"plot\":{\"id\":\"2f47ec6e-c818-47fa-b854-38669d09e2d0\",\"subtype\":\"Figure\",\"type\":\"Plot\"}},\"id\":\"79d93f33-1e31-45f8-8741-259320b3aca3\",\"type\":\"PanTool\"},{\"attributes\":{\"plot\":{\"id\":\"2f47ec6e-c818-47fa-b854-38669d09e2d0\",\"subtype\":\"Figure\",\"type\":\"Plot\"}},\"id\":\"369a67f8-f07b-4a99-ad3b-68e8f2d06407\",\"type\":\"SaveTool\"},{\"attributes\":{\"plot\":{\"id\":\"2f47ec6e-c818-47fa-b854-38669d09e2d0\",\"subtype\":\"Figure\",\"type\":\"Plot\"}},\"id\":\"efdf8d66-44a5-46c7-a55e-2d4152fd1c34\",\"type\":\"WheelZoomTool\"},{\"attributes\":{\"data_source\":{\"id\":\"6aeff57b-5cd9-4da8-b5cb-ad93e94a3089\",\"type\":\"ColumnDataSource\"},\"glyph\":{\"id\":\"3fa0cc32-d53c-491a-9e71-4c792b363c72\",\"type\":\"Text\"},\"hover_glyph\":null,\"muted_glyph\":null,\"nonselection_glyph\":{\"id\":\"57fccb4b-b7f6-449e-95b7-d2fbc5c1da8a\",\"type\":\"Text\"},\"selection_glyph\":null},\"id\":\"988d49d8-abcf-464e-89f3-cab2b58bb59c\",\"type\":\"GlyphRenderer\"},{\"attributes\":{\"plot\":null,\"text\":\"Word similarities in the Tweets of {}\"},\"id\":\"8d1e1d63-b146-49e9-9eba-20a53b6bc232\",\"type\":\"Title\"},{\"attributes\":{\"callback\":null},\"id\":\"54f2d563-7e53-45de-a59d-fb1143f62527\",\"type\":\"DataRange1d\"},{\"attributes\":{\"plot\":{\"id\":\"2f47ec6e-c818-47fa-b854-38669d09e2d0\",\"subtype\":\"Figure\",\"type\":\"Plot\"}},\"id\":\"9a870f0e-0c64-4433-9ae5-aa35b5f9b330\",\"type\":\"ResetTool\"},{\"attributes\":{},\"id\":\"fd949a8a-7832-464e-ac0e-43639aee43d5\",\"type\":\"ToolEvents\"},{\"attributes\":{\"below\":[{\"id\":\"fa308b96-2de6-457e-a0bd-dd710eecb114\",\"type\":\"LinearAxis\"}],\"left\":[{\"id\":\"b853e50c-ec2a-4c81-ae5d-f8e266c070bf\",\"type\":\"LinearAxis\"}],\"plot_width\":900,\"renderers\":[{\"id\":\"fa308b96-2de6-457e-a0bd-dd710eecb114\",\"type\":\"LinearAxis\"},{\"id\":\"3b92c386-3134-4f34-b7c1-25770002b70b\",\"type\":\"Grid\"},{\"id\":\"b853e50c-ec2a-4c81-ae5d-f8e266c070bf\",\"type\":\"LinearAxis\"},{\"id\":\"9565506c-5174-4b3e-9244-9e4d42073c5e\",\"type\":\"Grid\"},{\"id\":\"988d49d8-abcf-464e-89f3-cab2b58bb59c\",\"type\":\"GlyphRenderer\"}],\"title\":{\"id\":\"8d1e1d63-b146-49e9-9eba-20a53b6bc232\",\"type\":\"Title\"},\"tool_events\":{\"id\":\"fd949a8a-7832-464e-ac0e-43639aee43d5\",\"type\":\"ToolEvents\"},\"toolbar\":{\"id\":\"2721ba35-6f3d-4fee-8e62-5d10dcdb1959\",\"type\":\"Toolbar\"},\"toolbar_location\":\"above\",\"x_range\":{\"id\":\"54f2d563-7e53-45de-a59d-fb1143f62527\",\"type\":\"DataRange1d\"},\"y_range\":{\"id\":\"b6ce636b-19fc-4ccd-8fe1-e38d8d6ecdff\",\"type\":\"DataRange1d\"}},\"id\":\"2f47ec6e-c818-47fa-b854-38669d09e2d0\",\"subtype\":\"Figure\",\"type\":\"Plot\"},{\"attributes\":{\"active_drag\":\"auto\",\"active_scroll\":{\"id\":\"efdf8d66-44a5-46c7-a55e-2d4152fd1c34\",\"type\":\"WheelZoomTool\"},\"active_tap\":\"auto\",\"tools\":[{\"id\":\"79d93f33-1e31-45f8-8741-259320b3aca3\",\"type\":\"PanTool\"},{\"id\":\"9a870f0e-0c64-4433-9ae5-aa35b5f9b330\",\"type\":\"ResetTool\"},{\"id\":\"369a67f8-f07b-4a99-ad3b-68e8f2d06407\",\"type\":\"SaveTool\"},{\"id\":\"efdf8d66-44a5-46c7-a55e-2d4152fd1c34\",\"type\":\"WheelZoomTool\"}]},\"id\":\"2721ba35-6f3d-4fee-8e62-5d10dcdb1959\",\"type\":\"Toolbar\"},{\"attributes\":{\"callback\":null},\"id\":\"b6ce636b-19fc-4ccd-8fe1-e38d8d6ecdff\",\"type\":\"DataRange1d\"}],\"root_ids\":[\"2f47ec6e-c818-47fa-b854-38669d09e2d0\"]},\"title\":\"Bokeh Application\",\"version\":\"0.12.5\"}};\n",
       "            var render_items = [{\"docid\":\"444236c4-bf99-46d0-b83d-3610743726f8\",\"elementid\":\"4bb4a02c-16d0-4cca-9b02-b0d41147cd1d\",\"modelid\":\"2f47ec6e-c818-47fa-b854-38669d09e2d0\"}];\n",
       "            \n",
       "            Bokeh.embed.embed_items(docs_json, render_items);\n",
       "          };\n",
       "          if (document.readyState != \"loading\") fn();\n",
       "          else document.addEventListener(\"DOMContentLoaded\", fn);\n",
       "        })();\n",
       "      },\n",
       "      function(Bokeh) {\n",
       "      }\n",
       "    ];\n",
       "  \n",
       "    function run_inline_js() {\n",
       "      \n",
       "      if ((window.Bokeh !== undefined) || (force === true)) {\n",
       "        for (var i = 0; i < inline_js.length; i++) {\n",
       "          inline_js[i](window.Bokeh);\n",
       "        }if (force === true) {\n",
       "          display_loaded();\n",
       "        }} else if (Date.now() < window._bokeh_timeout) {\n",
       "        setTimeout(run_inline_js, 100);\n",
       "      } else if (!window._bokeh_failed_load) {\n",
       "        console.log(\"Bokeh: BokehJS failed to load within specified timeout.\");\n",
       "        window._bokeh_failed_load = true;\n",
       "      } else if (force !== true) {\n",
       "        var cell = $(document.getElementById(\"4bb4a02c-16d0-4cca-9b02-b0d41147cd1d\")).parents('.cell').data().cell;\n",
       "        cell.output_area.append_execute_result(NB_LOAD_WARNING)\n",
       "      }\n",
       "  \n",
       "    }\n",
       "  \n",
       "    if (window._bokeh_is_loading === 0) {\n",
       "      console.log(\"Bokeh: BokehJS loaded, going straight to plotting\");\n",
       "      run_inline_js();\n",
       "    } else {\n",
       "      load_libs(js_urls, function() {\n",
       "        console.log(\"Bokeh: BokehJS plotting callback run at\", now());\n",
       "        run_inline_js();\n",
       "      });\n",
       "    }\n",
       "  }(this));\n",
       "</script>"
      ]
     },
     "metadata": {},
     "output_type": "display_data"
    }
   ],
   "source": [
    "from bokeh.plotting import figure, show, ColumnDataSource, output_file\n",
    "from bokeh.models import PanTool, ResetTool, SaveTool, WheelZoomTool\n",
    "\n",
    "# Set the labels\n",
    "title = 'Word similarities in the Tweets of {}'\n",
    "xlabel = 'x axis'\n",
    "ylabel = 'y axis'\n",
    "\n",
    "output_file('Word_Similarities_Wikipedia.html')\n",
    "\n",
    "# Create the internal data-structure\n",
    "source = ColumnDataSource(data=dict(\n",
    "    x=U[:,0],\n",
    "    y=U[:,1],\n",
    "    text=list(words)\n",
    "))\n",
    "\n",
    "# Load useful tools\n",
    "pan = PanTool()\n",
    "reset = ResetTool()\n",
    "save = SaveTool()\n",
    "zoom = WheelZoomTool()    \n",
    "\n",
    "# Create the figure and plot the circles\n",
    "p = figure(plot_width=900, plot_height=600, tools=[pan, reset, save, zoom], active_scroll=zoom, title=title, toolbar_location=\"above\")\n",
    "p.text('x', 'y', 'text', source=source)\n",
    "\n",
    "# Refine the layout\n",
    "p.xaxis.axis_label = xlabel\n",
    "p.yaxis.axis_label = ylabel\n",
    "\n",
    "show(p)"
   ]
  },
  {
   "cell_type": "code",
   "execution_count": null,
   "metadata": {
    "collapsed": true
   },
   "outputs": [],
   "source": []
  }
 ],
 "metadata": {
  "kernelspec": {
   "display_name": "Python 3",
   "language": "python",
   "name": "python3"
  },
  "language_info": {
   "codemirror_mode": {
    "name": "ipython",
    "version": 3
   },
   "file_extension": ".py",
   "mimetype": "text/x-python",
   "name": "python",
   "nbconvert_exporter": "python",
   "pygments_lexer": "ipython3",
   "version": "3.6.1"
  }
 },
 "nbformat": 4,
 "nbformat_minor": 2
}

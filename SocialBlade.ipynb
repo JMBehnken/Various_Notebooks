{
 "cells": [
  {
   "cell_type": "markdown",
   "metadata": {},
   "source": [
    "# Get Social-Data for different Accounts"
   ]
  },
  {
   "cell_type": "code",
   "execution_count": 1,
   "metadata": {
    "collapsed": true
   },
   "outputs": [],
   "source": [
    "from bs4 import BeautifulSoup\n",
    "import pandas as pd\n",
    "import requests"
   ]
  },
  {
   "cell_type": "code",
   "execution_count": 2,
   "metadata": {
    "collapsed": true
   },
   "outputs": [],
   "source": [
    "url = 'https://socialblade.com/twitter/user/tagesschau'\n",
    "html = requests.get(url).text\n",
    "bs = BeautifulSoup(html, 'lxml')"
   ]
  },
  {
   "cell_type": "code",
   "execution_count": 3,
   "metadata": {
    "collapsed": true
   },
   "outputs": [],
   "source": [
    "data = []\n",
    "for elem in bs.findAll('div', {'style':'width: 860px; height: 32px; line-height: 32px; background: #f8f8f8; padding: 0px 20px; color:#444; font-size: 9pt; border-bottom: 1px solid #eee;'}):\n",
    "    row = [div.get_text().strip().replace(',', '').replace('--', '0') for div in elem.findAll('div') if '\\n' not in div.get_text().strip()]\n",
    "    data.append(row)\n",
    "for elem in bs.findAll('div', {'style':'width: 860px; height: 32px; line-height: 32px; background: #fcfcfc; padding: 0px 20px; color:#444; font-size: 9pt; border-bottom: 1px solid #eee;'}):\n",
    "    row = [div.get_text().strip().replace(',', '').replace('--', '0') for div in elem.findAll('div') if '\\n' not in div.get_text().strip()]\n",
    "    data.append(row)"
   ]
  },
  {
   "cell_type": "code",
   "execution_count": 4,
   "metadata": {},
   "outputs": [
    {
     "data": {
      "text/html": [
       "<div>\n",
       "<style>\n",
       "    .dataframe thead tr:only-child th {\n",
       "        text-align: right;\n",
       "    }\n",
       "\n",
       "    .dataframe thead th {\n",
       "        text-align: left;\n",
       "    }\n",
       "\n",
       "    .dataframe tbody tr th {\n",
       "        vertical-align: top;\n",
       "    }\n",
       "</style>\n",
       "<table border=\"1\" class=\"dataframe\">\n",
       "  <thead>\n",
       "    <tr style=\"text-align: right;\">\n",
       "      <th></th>\n",
       "      <th>Weekday</th>\n",
       "      <th>New_Follower</th>\n",
       "      <th>Follower</th>\n",
       "      <th>New_Following</th>\n",
       "      <th>Following</th>\n",
       "      <th>New_Tweets</th>\n",
       "      <th>Tweets</th>\n",
       "    </tr>\n",
       "    <tr>\n",
       "      <th>Date</th>\n",
       "      <th></th>\n",
       "      <th></th>\n",
       "      <th></th>\n",
       "      <th></th>\n",
       "      <th></th>\n",
       "      <th></th>\n",
       "      <th></th>\n",
       "    </tr>\n",
       "  </thead>\n",
       "  <tbody>\n",
       "    <tr>\n",
       "      <th>2018-04-11</th>\n",
       "      <td>Wed</td>\n",
       "      <td>906</td>\n",
       "      <td>2445450</td>\n",
       "      <td>0</td>\n",
       "      <td>296</td>\n",
       "      <td>49</td>\n",
       "      <td>157461</td>\n",
       "    </tr>\n",
       "    <tr>\n",
       "      <th>2018-04-12</th>\n",
       "      <td>Thu</td>\n",
       "      <td>1292</td>\n",
       "      <td>2446742</td>\n",
       "      <td>0</td>\n",
       "      <td>296</td>\n",
       "      <td>57</td>\n",
       "      <td>157518</td>\n",
       "    </tr>\n",
       "    <tr>\n",
       "      <th>2018-04-13</th>\n",
       "      <td>Fri</td>\n",
       "      <td>942</td>\n",
       "      <td>2447684</td>\n",
       "      <td>0</td>\n",
       "      <td>296</td>\n",
       "      <td>53</td>\n",
       "      <td>157571</td>\n",
       "    </tr>\n",
       "    <tr>\n",
       "      <th>2018-04-14</th>\n",
       "      <td>Sat</td>\n",
       "      <td>1106</td>\n",
       "      <td>2448790</td>\n",
       "      <td>0</td>\n",
       "      <td>296</td>\n",
       "      <td>36</td>\n",
       "      <td>157607</td>\n",
       "    </tr>\n",
       "    <tr>\n",
       "      <th>2018-04-15</th>\n",
       "      <td>Sun</td>\n",
       "      <td>967</td>\n",
       "      <td>2449757</td>\n",
       "      <td>0</td>\n",
       "      <td>296</td>\n",
       "      <td>30</td>\n",
       "      <td>157637</td>\n",
       "    </tr>\n",
       "  </tbody>\n",
       "</table>\n",
       "</div>"
      ],
      "text/plain": [
       "           Weekday  New_Follower  Follower  New_Following  Following  \\\n",
       "Date                                                                   \n",
       "2018-04-11     Wed           906   2445450              0        296   \n",
       "2018-04-12     Thu          1292   2446742              0        296   \n",
       "2018-04-13     Fri           942   2447684              0        296   \n",
       "2018-04-14     Sat          1106   2448790              0        296   \n",
       "2018-04-15     Sun           967   2449757              0        296   \n",
       "\n",
       "            New_Tweets  Tweets  \n",
       "Date                            \n",
       "2018-04-11          49  157461  \n",
       "2018-04-12          57  157518  \n",
       "2018-04-13          53  157571  \n",
       "2018-04-14          36  157607  \n",
       "2018-04-15          30  157637  "
      ]
     },
     "execution_count": 4,
     "metadata": {},
     "output_type": "execute_result"
    }
   ],
   "source": [
    "df = pd.DataFrame(data[:-1], columns=['Date', 'Weekday', 'New_Follower', 'Follower', 'New_Following', 'Following', 'New_Tweets', 'Tweets'])\n",
    "for column in ['New_Follower', 'Follower', 'New_Following', 'Following', 'New_Tweets', 'Tweets']:\n",
    "    df[column] = df[column].astype(int)\n",
    "df['Date'] = pd.to_datetime(df['Date'])\n",
    "df = df.set_index('Date').sort_index()\n",
    "df.head()"
   ]
  },
  {
   "cell_type": "code",
   "execution_count": null,
   "metadata": {
    "collapsed": true
   },
   "outputs": [],
   "source": []
  }
 ],
 "metadata": {
  "kernelspec": {
   "display_name": "Python 3",
   "language": "python",
   "name": "python3"
  },
  "language_info": {
   "codemirror_mode": {
    "name": "ipython",
    "version": 3
   },
   "file_extension": ".py",
   "mimetype": "text/x-python",
   "name": "python",
   "nbconvert_exporter": "python",
   "pygments_lexer": "ipython3",
   "version": "3.6.1"
  }
 },
 "nbformat": 4,
 "nbformat_minor": 2
}
